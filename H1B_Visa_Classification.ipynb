{
 "cells": [
  {
   "cell_type": "markdown",
   "id": "d8ba0be6",
   "metadata": {},
   "source": [
    "# Group 3 - Ssanidhya Barraptay, Nikhil Bhosale, Pooja Bendale\n",
    "\n",
    "## H1B Prediction "
   ]
  },
  {
   "cell_type": "code",
   "execution_count": 1,
   "id": "08d19781",
   "metadata": {},
   "outputs": [],
   "source": [
    "#import all the necessary libraries \n",
    "from sklearn.model_selection import train_test_split \n",
    "from sklearn.linear_model import LogisticRegression\n",
    "import matplotlib.pyplot as plt\n",
    "import pandas as pd\n",
    "import numpy as np\n",
    "import seaborn as sns\n",
    "import re"
   ]
  },
  {
   "cell_type": "code",
   "execution_count": 2,
   "id": "b702c4c6",
   "metadata": {},
   "outputs": [],
   "source": [
    "#read the csv.file\n",
    "df = pd.read_csv(\"h1b_kaggle.csv\",index_col=0)"
   ]
  },
  {
   "cell_type": "code",
   "execution_count": 3,
   "id": "8d911ccd",
   "metadata": {},
   "outputs": [
    {
     "data": {
      "text/html": [
       "<div>\n",
       "<style scoped>\n",
       "    .dataframe tbody tr th:only-of-type {\n",
       "        vertical-align: middle;\n",
       "    }\n",
       "\n",
       "    .dataframe tbody tr th {\n",
       "        vertical-align: top;\n",
       "    }\n",
       "\n",
       "    .dataframe thead th {\n",
       "        text-align: right;\n",
       "    }\n",
       "</style>\n",
       "<table border=\"1\" class=\"dataframe\">\n",
       "  <thead>\n",
       "    <tr style=\"text-align: right;\">\n",
       "      <th></th>\n",
       "      <th>CASE_STATUS</th>\n",
       "      <th>EMPLOYER_NAME</th>\n",
       "      <th>SOC_NAME</th>\n",
       "      <th>JOB_TITLE</th>\n",
       "      <th>FULL_TIME_POSITION</th>\n",
       "      <th>PREVAILING_WAGE</th>\n",
       "      <th>YEAR</th>\n",
       "      <th>WORKSITE</th>\n",
       "      <th>lon</th>\n",
       "      <th>lat</th>\n",
       "    </tr>\n",
       "  </thead>\n",
       "  <tbody>\n",
       "    <tr>\n",
       "      <th>1</th>\n",
       "      <td>CERTIFIED-WITHDRAWN</td>\n",
       "      <td>UNIVERSITY OF MICHIGAN</td>\n",
       "      <td>BIOCHEMISTS AND BIOPHYSICISTS</td>\n",
       "      <td>POSTDOCTORAL RESEARCH FELLOW</td>\n",
       "      <td>N</td>\n",
       "      <td>36067.0</td>\n",
       "      <td>2016.0</td>\n",
       "      <td>ANN ARBOR, MICHIGAN</td>\n",
       "      <td>-83.743038</td>\n",
       "      <td>42.280826</td>\n",
       "    </tr>\n",
       "    <tr>\n",
       "      <th>2</th>\n",
       "      <td>CERTIFIED-WITHDRAWN</td>\n",
       "      <td>GOODMAN NETWORKS, INC.</td>\n",
       "      <td>CHIEF EXECUTIVES</td>\n",
       "      <td>CHIEF OPERATING OFFICER</td>\n",
       "      <td>Y</td>\n",
       "      <td>242674.0</td>\n",
       "      <td>2016.0</td>\n",
       "      <td>PLANO, TEXAS</td>\n",
       "      <td>-96.698886</td>\n",
       "      <td>33.019843</td>\n",
       "    </tr>\n",
       "    <tr>\n",
       "      <th>3</th>\n",
       "      <td>CERTIFIED-WITHDRAWN</td>\n",
       "      <td>PORTS AMERICA GROUP, INC.</td>\n",
       "      <td>CHIEF EXECUTIVES</td>\n",
       "      <td>CHIEF PROCESS OFFICER</td>\n",
       "      <td>Y</td>\n",
       "      <td>193066.0</td>\n",
       "      <td>2016.0</td>\n",
       "      <td>JERSEY CITY, NEW JERSEY</td>\n",
       "      <td>-74.077642</td>\n",
       "      <td>40.728158</td>\n",
       "    </tr>\n",
       "    <tr>\n",
       "      <th>4</th>\n",
       "      <td>CERTIFIED-WITHDRAWN</td>\n",
       "      <td>GATES CORPORATION, A WHOLLY-OWNED SUBSIDIARY O...</td>\n",
       "      <td>CHIEF EXECUTIVES</td>\n",
       "      <td>REGIONAL PRESIDEN, AMERICAS</td>\n",
       "      <td>Y</td>\n",
       "      <td>220314.0</td>\n",
       "      <td>2016.0</td>\n",
       "      <td>DENVER, COLORADO</td>\n",
       "      <td>-104.990251</td>\n",
       "      <td>39.739236</td>\n",
       "    </tr>\n",
       "    <tr>\n",
       "      <th>5</th>\n",
       "      <td>WITHDRAWN</td>\n",
       "      <td>PEABODY INVESTMENTS CORP.</td>\n",
       "      <td>CHIEF EXECUTIVES</td>\n",
       "      <td>PRESIDENT MONGOLIA AND INDIA</td>\n",
       "      <td>Y</td>\n",
       "      <td>157518.4</td>\n",
       "      <td>2016.0</td>\n",
       "      <td>ST. LOUIS, MISSOURI</td>\n",
       "      <td>-90.199404</td>\n",
       "      <td>38.627003</td>\n",
       "    </tr>\n",
       "    <tr>\n",
       "      <th>...</th>\n",
       "      <td>...</td>\n",
       "      <td>...</td>\n",
       "      <td>...</td>\n",
       "      <td>...</td>\n",
       "      <td>...</td>\n",
       "      <td>...</td>\n",
       "      <td>...</td>\n",
       "      <td>...</td>\n",
       "      <td>...</td>\n",
       "      <td>...</td>\n",
       "    </tr>\n",
       "    <tr>\n",
       "      <th>3002454</th>\n",
       "      <td>NaN</td>\n",
       "      <td>NaN</td>\n",
       "      <td>NaN</td>\n",
       "      <td>NaN</td>\n",
       "      <td>NaN</td>\n",
       "      <td>NaN</td>\n",
       "      <td>NaN</td>\n",
       "      <td>NYC, NEW YORK</td>\n",
       "      <td>-74.005941</td>\n",
       "      <td>40.712784</td>\n",
       "    </tr>\n",
       "    <tr>\n",
       "      <th>3002455</th>\n",
       "      <td>NaN</td>\n",
       "      <td>NaN</td>\n",
       "      <td>NaN</td>\n",
       "      <td>NaN</td>\n",
       "      <td>NaN</td>\n",
       "      <td>NaN</td>\n",
       "      <td>NaN</td>\n",
       "      <td>SOUTH LAKE, TEXAS</td>\n",
       "      <td>-97.134178</td>\n",
       "      <td>32.941236</td>\n",
       "    </tr>\n",
       "    <tr>\n",
       "      <th>3002456</th>\n",
       "      <td>NaN</td>\n",
       "      <td>NaN</td>\n",
       "      <td>NaN</td>\n",
       "      <td>NaN</td>\n",
       "      <td>NaN</td>\n",
       "      <td>NaN</td>\n",
       "      <td>NaN</td>\n",
       "      <td>CLINTON, NEW JERSEY</td>\n",
       "      <td>-74.909890</td>\n",
       "      <td>40.636768</td>\n",
       "    </tr>\n",
       "    <tr>\n",
       "      <th>3002457</th>\n",
       "      <td>NaN</td>\n",
       "      <td>NaN</td>\n",
       "      <td>NaN</td>\n",
       "      <td>NaN</td>\n",
       "      <td>NaN</td>\n",
       "      <td>NaN</td>\n",
       "      <td>NaN</td>\n",
       "      <td>OWINGS MILL, MARYLAND</td>\n",
       "      <td>-76.780253</td>\n",
       "      <td>39.419550</td>\n",
       "    </tr>\n",
       "    <tr>\n",
       "      <th>3002458</th>\n",
       "      <td>NaN</td>\n",
       "      <td>NaN</td>\n",
       "      <td>NaN</td>\n",
       "      <td>NaN</td>\n",
       "      <td>NaN</td>\n",
       "      <td>NaN</td>\n",
       "      <td>NaN</td>\n",
       "      <td>ALTANTA, GEORGIA</td>\n",
       "      <td>-84.387982</td>\n",
       "      <td>33.748995</td>\n",
       "    </tr>\n",
       "  </tbody>\n",
       "</table>\n",
       "<p>3002458 rows × 10 columns</p>\n",
       "</div>"
      ],
      "text/plain": [
       "                 CASE_STATUS  \\\n",
       "1        CERTIFIED-WITHDRAWN   \n",
       "2        CERTIFIED-WITHDRAWN   \n",
       "3        CERTIFIED-WITHDRAWN   \n",
       "4        CERTIFIED-WITHDRAWN   \n",
       "5                  WITHDRAWN   \n",
       "...                      ...   \n",
       "3002454                  NaN   \n",
       "3002455                  NaN   \n",
       "3002456                  NaN   \n",
       "3002457                  NaN   \n",
       "3002458                  NaN   \n",
       "\n",
       "                                             EMPLOYER_NAME  \\\n",
       "1                                   UNIVERSITY OF MICHIGAN   \n",
       "2                                   GOODMAN NETWORKS, INC.   \n",
       "3                                PORTS AMERICA GROUP, INC.   \n",
       "4        GATES CORPORATION, A WHOLLY-OWNED SUBSIDIARY O...   \n",
       "5                                PEABODY INVESTMENTS CORP.   \n",
       "...                                                    ...   \n",
       "3002454                                                NaN   \n",
       "3002455                                                NaN   \n",
       "3002456                                                NaN   \n",
       "3002457                                                NaN   \n",
       "3002458                                                NaN   \n",
       "\n",
       "                              SOC_NAME                     JOB_TITLE  \\\n",
       "1        BIOCHEMISTS AND BIOPHYSICISTS  POSTDOCTORAL RESEARCH FELLOW   \n",
       "2                     CHIEF EXECUTIVES       CHIEF OPERATING OFFICER   \n",
       "3                     CHIEF EXECUTIVES         CHIEF PROCESS OFFICER   \n",
       "4                     CHIEF EXECUTIVES   REGIONAL PRESIDEN, AMERICAS   \n",
       "5                     CHIEF EXECUTIVES  PRESIDENT MONGOLIA AND INDIA   \n",
       "...                                ...                           ...   \n",
       "3002454                            NaN                           NaN   \n",
       "3002455                            NaN                           NaN   \n",
       "3002456                            NaN                           NaN   \n",
       "3002457                            NaN                           NaN   \n",
       "3002458                            NaN                           NaN   \n",
       "\n",
       "        FULL_TIME_POSITION  PREVAILING_WAGE    YEAR                 WORKSITE  \\\n",
       "1                        N          36067.0  2016.0      ANN ARBOR, MICHIGAN   \n",
       "2                        Y         242674.0  2016.0             PLANO, TEXAS   \n",
       "3                        Y         193066.0  2016.0  JERSEY CITY, NEW JERSEY   \n",
       "4                        Y         220314.0  2016.0         DENVER, COLORADO   \n",
       "5                        Y         157518.4  2016.0      ST. LOUIS, MISSOURI   \n",
       "...                    ...              ...     ...                      ...   \n",
       "3002454                NaN              NaN     NaN            NYC, NEW YORK   \n",
       "3002455                NaN              NaN     NaN        SOUTH LAKE, TEXAS   \n",
       "3002456                NaN              NaN     NaN      CLINTON, NEW JERSEY   \n",
       "3002457                NaN              NaN     NaN    OWINGS MILL, MARYLAND   \n",
       "3002458                NaN              NaN     NaN         ALTANTA, GEORGIA   \n",
       "\n",
       "                lon        lat  \n",
       "1        -83.743038  42.280826  \n",
       "2        -96.698886  33.019843  \n",
       "3        -74.077642  40.728158  \n",
       "4       -104.990251  39.739236  \n",
       "5        -90.199404  38.627003  \n",
       "...             ...        ...  \n",
       "3002454  -74.005941  40.712784  \n",
       "3002455  -97.134178  32.941236  \n",
       "3002456  -74.909890  40.636768  \n",
       "3002457  -76.780253  39.419550  \n",
       "3002458  -84.387982  33.748995  \n",
       "\n",
       "[3002458 rows x 10 columns]"
      ]
     },
     "execution_count": 3,
     "metadata": {},
     "output_type": "execute_result"
    }
   ],
   "source": [
    "df"
   ]
  },
  {
   "cell_type": "code",
   "execution_count": 4,
   "id": "db9af89e",
   "metadata": {},
   "outputs": [
    {
     "data": {
      "text/plain": [
       "(3002458, 10)"
      ]
     },
     "execution_count": 4,
     "metadata": {},
     "output_type": "execute_result"
    }
   ],
   "source": [
    "df.shape"
   ]
  },
  {
   "cell_type": "code",
   "execution_count": 5,
   "id": "625ca381",
   "metadata": {},
   "outputs": [
    {
     "name": "stdout",
     "output_type": "stream",
     "text": [
      "<class 'pandas.core.frame.DataFrame'>\n",
      "Int64Index: 3002458 entries, 1 to 3002458\n",
      "Data columns (total 10 columns):\n",
      " #   Column              Dtype  \n",
      "---  ------              -----  \n",
      " 0   CASE_STATUS         object \n",
      " 1   EMPLOYER_NAME       object \n",
      " 2   SOC_NAME            object \n",
      " 3   JOB_TITLE           object \n",
      " 4   FULL_TIME_POSITION  object \n",
      " 5   PREVAILING_WAGE     float64\n",
      " 6   YEAR                float64\n",
      " 7   WORKSITE            object \n",
      " 8   lon                 float64\n",
      " 9   lat                 float64\n",
      "dtypes: float64(4), object(6)\n",
      "memory usage: 252.0+ MB\n"
     ]
    }
   ],
   "source": [
    "df.info()"
   ]
  },
  {
   "cell_type": "code",
   "execution_count": 6,
   "id": "1d2eb720",
   "metadata": {},
   "outputs": [],
   "source": [
    "## 2.1 Data Exploration"
   ]
  },
  {
   "cell_type": "code",
   "execution_count": 7,
   "id": "2be5f82f",
   "metadata": {},
   "outputs": [
    {
     "data": {
      "text/plain": [
       "CASE_STATUS               13\n",
       "EMPLOYER_NAME             59\n",
       "SOC_NAME               17734\n",
       "JOB_TITLE                 43\n",
       "FULL_TIME_POSITION        15\n",
       "PREVAILING_WAGE           85\n",
       "YEAR                      13\n",
       "WORKSITE                   0\n",
       "lon                   107242\n",
       "lat                   107242\n",
       "dtype: int64"
      ]
     },
     "execution_count": 7,
     "metadata": {},
     "output_type": "execute_result"
    }
   ],
   "source": [
    "df.isnull().sum()"
   ]
  },
  {
   "cell_type": "code",
   "execution_count": 8,
   "id": "f5a9cd24",
   "metadata": {},
   "outputs": [
    {
     "data": {
      "text/plain": [
       "CERTIFIED                                             2615623\n",
       "CERTIFIED-WITHDRAWN                                    202659\n",
       "DENIED                                                  94346\n",
       "WITHDRAWN                                               89799\n",
       "PENDING QUALITY AND COMPLIANCE REVIEW - UNASSIGNED         15\n",
       "REJECTED                                                    2\n",
       "INVALIDATED                                                 1\n",
       "Name: CASE_STATUS, dtype: int64"
      ]
     },
     "execution_count": 8,
     "metadata": {},
     "output_type": "execute_result"
    }
   ],
   "source": [
    "df.CASE_STATUS.value_counts()"
   ]
  },
  {
   "cell_type": "code",
   "execution_count": 9,
   "id": "18ceb56f",
   "metadata": {},
   "outputs": [],
   "source": [
    "case_status = {\n",
    "   'CASE_STATUS': {\n",
    "      r'(PENDING QUALITY AND COMPLIANCE REVIEW - UNASSIGNED|REJECTED|INVALIDATED)':'DENIED',\n",
    "      r'CERTIFIED-WITHDRAWN': 'CERTIFIED'}\n",
    "}\n",
    "df.replace(case_status, regex=True, inplace=True)\n",
    "\n",
    "# drop rows with 'WITHDRAWN' value \n",
    "indexNames = df[df['CASE_STATUS']=='WITHDRAWN'].index\n",
    "df.drop(indexNames , inplace=True)"
   ]
  },
  {
   "cell_type": "code",
   "execution_count": 10,
   "id": "8e952569",
   "metadata": {},
   "outputs": [
    {
     "data": {
      "text/plain": [
       "CERTIFIED    2818282\n",
       "DENIED         94364\n",
       "Name: CASE_STATUS, dtype: int64"
      ]
     },
     "execution_count": 10,
     "metadata": {},
     "output_type": "execute_result"
    }
   ],
   "source": [
    "df.CASE_STATUS.value_counts()"
   ]
  },
  {
   "cell_type": "markdown",
   "id": "ef0bbe87",
   "metadata": {},
   "source": [
    "# Plotting the Data"
   ]
  },
  {
   "cell_type": "code",
   "execution_count": 11,
   "id": "1834d7c7",
   "metadata": {},
   "outputs": [
    {
     "data": {
      "image/png": "[encoded data removed]",
      "text/plain": [
       "<Figure size 576x432 with 1 Axes>"
      ]
     },
     "metadata": {
      "needs_background": "light"
     },
     "output_type": "display_data"
    }
   ],
   "source": [
    "plt.figure(figsize=(8, 6))\n",
    "\n",
    "# Get the value counts for CASE_STATUS and plot a bar chart\n",
    "status_counts = df['CASE_STATUS'].value_counts()\n",
    "ax = sns.barplot(x=status_counts.index, y=status_counts, palette='plasma')\n",
    "\n",
    "# Set axis labels and plot title\n",
    "ax.set(xlabel='Visa Petition Status', ylabel='Frequency', title='Frequency of Visa Petition Status')\n",
    "\n",
    "# Rotate the x-tick labels for better visibility\n",
    "ax.set_xticklabels(ax.get_xticklabels(), rotation=45, ha='right')\n",
    "\n",
    "# Show the plot\n",
    "plt.show()"
   ]
  },
  {
   "cell_type": "code",
   "execution_count": 12,
   "id": "4063e9d5",
   "metadata": {},
   "outputs": [
    {
     "data": {
      "image/png": "[encoded data removed]",
      "text/plain": [
       "<Figure size 864x432 with 2 Axes>"
      ]
     },
     "metadata": {
      "needs_background": "light"
     },
     "output_type": "display_data"
    }
   ],
   "source": [
    "# Create a figure with two subplots\n",
    "fig, axs = plt.subplots(nrows=1, ncols=2, figsize=(12, 6))\n",
    "\n",
    "# Plot horizontal bar charts of top 10 employers and job positions\n",
    "df.EMPLOYER_NAME.value_counts().head(10).sort_values().plot(kind='barh', ax=axs[0], color='tab:blue')\n",
    "axs[0].set(title='Top 10 Employers', xlabel='Number of Visa Petitions')\n",
    "df.SOC_NAME.value_counts().head(10).sort_values().plot(kind='barh', ax=axs[1], color='tab:orange')\n",
    "axs[1].set(title='Top 10 Job Positions', xlabel='Number of Visa Petitions')\n",
    "\n",
    "# Set common ylabel and adjust subplot spacing\n",
    "fig.suptitle('Most Popular Employers and Job Positions', fontsize=16)\n",
    "fig.tight_layout(pad=3.0)\n",
    "\n",
    "# Display the plot\n",
    "plt.show()"
   ]
  },
  {
   "cell_type": "code",
   "execution_count": 13,
   "id": "f11e6ee1",
   "metadata": {},
   "outputs": [
    {
     "data": {
      "text/plain": [
       "count    2.912593e+06\n",
       "mean     1.428910e+05\n",
       "std      5.282312e+06\n",
       "min      0.000000e+00\n",
       "25%      5.441300e+04\n",
       "50%      6.500000e+04\n",
       "75%      8.143200e+04\n",
       "max      6.997607e+09\n",
       "Name: PREVAILING_WAGE, dtype: float64"
      ]
     },
     "execution_count": 13,
     "metadata": {},
     "output_type": "execute_result"
    }
   ],
   "source": [
    "# Analyzing the wage column\n",
    "df['PREVAILING_WAGE'].describe()"
   ]
  },
  {
   "cell_type": "code",
   "execution_count": 14,
   "id": "f21c8088",
   "metadata": {},
   "outputs": [
    {
     "data": {
      "image/png": "[encoded data removed]",
      "text/plain": [
       "<Figure size 864x432 with 2 Axes>"
      ]
     },
     "metadata": {
      "needs_background": "light"
     },
     "output_type": "display_data"
    }
   ],
   "source": [
    "# create a figure with two subplots\n",
    "fig, axs = plt.subplots(ncols=2, figsize=(12, 6))\n",
    "\n",
    "# plot a boxplot of the 'PREVAILING_WAGE' column in the first subplot\n",
    "sns.boxplot(x=df.head(500)['PREVAILING_WAGE'], ax=axs[0], color='tab:blue')\n",
    "axs[0].set(title='PREVAILING_WAGE (First 500 Values)', xlabel='')\n",
    "\n",
    "# plot a boxplot of the 'PREVAILING_WAGE' column grouped by 'CASE_STATUS' in the second subplot\n",
    "sns.boxplot(x='CASE_STATUS', y='PREVAILING_WAGE', data=df.head(100), palette='deep', ax=axs[1])\n",
    "axs[1].set(title='PREVAILING_WAGE by CASE_STATUS (First 100 Rows)', xlabel='', ylabel='')\n",
    "\n",
    "# Set common y-label and adjust subplot spacing\n",
    "fig.suptitle('Distribution of Prevailing Wage', fontsize=16)\n",
    "fig.tight_layout(pad=3.0)\n",
    "\n",
    "# show the plot\n",
    "plt.show()\n"
   ]
  },
  {
   "cell_type": "code",
   "execution_count": 15,
   "id": "22b229ec",
   "metadata": {},
   "outputs": [
    {
     "data": {
      "text/plain": [
       "Index(['CASE_STATUS', 'EMPLOYER_NAME', 'SOC_NAME', 'JOB_TITLE',\n",
       "       'FULL_TIME_POSITION', 'PREVAILING_WAGE', 'YEAR', 'WORKSITE', 'lon',\n",
       "       'lat'],\n",
       "      dtype='object')"
      ]
     },
     "execution_count": 15,
     "metadata": {},
     "output_type": "execute_result"
    }
   ],
   "source": [
    "df.columns"
   ]
  },
  {
   "cell_type": "code",
   "execution_count": 16,
   "id": "9bcff508",
   "metadata": {},
   "outputs": [
    {
     "data": {
      "image/png": "[encoded data removed]",
      "text/plain": [
       "<Figure size 432x288 with 1 Axes>"
      ]
     },
     "metadata": {
      "needs_background": "light"
     },
     "output_type": "display_data"
    }
   ],
   "source": [
    "plt.plot(df['PREVAILING_WAGE'], df['YEAR'])\n",
    "\n",
    "# Add labels and title to the plot\n",
    "plt.xlabel('Wage')\n",
    "plt.ylabel('Year')\n",
    "plt.title('Year by Wage')\n",
    "\n",
    "# Show the plot\n",
    "plt.show()"
   ]
  },
  {
   "cell_type": "code",
   "execution_count": 17,
   "id": "c614f890",
   "metadata": {},
   "outputs": [
    {
     "data": {
      "image/png": "[encoded data removed]",
      "text/plain": [
       "<Figure size 720x432 with 1 Axes>"
      ]
     },
     "metadata": {
      "needs_background": "light"
     },
     "output_type": "display_data"
    }
   ],
   "source": [
    "plt.figure(figsize=(10, 6))\n",
    "\n",
    "# Get the top 5 city counts and plot a bar chart\n",
    "top_cities = df.WORKSITE.value_counts().head(5)\n",
    "ax = sns.barplot(x=top_cities.index, y=top_cities, palette='Blues')\n",
    "\n",
    "# Set axis labels and plot title\n",
    "ax.set(xlabel='City', ylabel='Number of Positions', title='Top 5 Cities with Most Working Positions')\n",
    "\n",
    "# Rotate the x-tick labels for better visibility\n",
    "ax.set_xticklabels(ax.get_xticklabels(), rotation=45, ha='right')\n",
    "\n",
    "# Show the plot\n",
    "plt.show()"
   ]
  },
  {
   "cell_type": "markdown",
   "id": "6b8db7f1",
   "metadata": {},
   "source": [
    "## Data Preprocessing"
   ]
  },
  {
   "cell_type": "code",
   "execution_count": 18,
   "id": "6e277241",
   "metadata": {},
   "outputs": [
    {
     "data": {
      "text/plain": [
       "1          BIOCHEMISTS AND BIOPHYSICISTS\n",
       "2                       CHIEF EXECUTIVES\n",
       "3                       CHIEF EXECUTIVES\n",
       "4                       CHIEF EXECUTIVES\n",
       "6                       CHIEF EXECUTIVES\n",
       "                       ...              \n",
       "3002454                              NaN\n",
       "3002455                              NaN\n",
       "3002456                              NaN\n",
       "3002457                              NaN\n",
       "3002458                              NaN\n",
       "Name: SOC_NAME, Length: 2912659, dtype: object"
      ]
     },
     "execution_count": 18,
     "metadata": {},
     "output_type": "execute_result"
    }
   ],
   "source": [
    "df.SOC_NAME"
   ]
  },
  {
   "cell_type": "code",
   "execution_count": 19,
   "id": "7b84e0bf",
   "metadata": {},
   "outputs": [
    {
     "data": {
      "text/plain": [
       "CASE_STATUS               13\n",
       "EMPLOYER_NAME             31\n",
       "SOC_NAME               17086\n",
       "JOB_TITLE                 23\n",
       "FULL_TIME_POSITION        14\n",
       "PREVAILING_WAGE           66\n",
       "YEAR                      13\n",
       "WORKSITE                   0\n",
       "lon                   102844\n",
       "lat                   102844\n",
       "dtype: int64"
      ]
     },
     "execution_count": 19,
     "metadata": {},
     "output_type": "execute_result"
    }
   ],
   "source": [
    "df.isna().sum()"
   ]
  },
  {
   "cell_type": "code",
   "execution_count": 20,
   "id": "c999a65e",
   "metadata": {},
   "outputs": [],
   "source": [
    "# Dropping job title ,lat and lon as these columns are not useful"
   ]
  },
  {
   "cell_type": "code",
   "execution_count": 21,
   "id": "8ce23e81",
   "metadata": {},
   "outputs": [],
   "source": [
    "df.drop('JOB_TITLE',inplace=True,axis=1)\n",
    "df.drop('lon',inplace=True,axis=1)\n",
    "df.drop('lat',inplace=True,axis=1)"
   ]
  },
  {
   "cell_type": "code",
   "execution_count": 22,
   "id": "ec2cedc5",
   "metadata": {},
   "outputs": [
    {
     "data": {
      "text/plain": [
       "CASE_STATUS              13\n",
       "EMPLOYER_NAME            31\n",
       "SOC_NAME              17086\n",
       "FULL_TIME_POSITION       14\n",
       "PREVAILING_WAGE          66\n",
       "YEAR                     13\n",
       "WORKSITE                  0\n",
       "dtype: int64"
      ]
     },
     "execution_count": 22,
     "metadata": {},
     "output_type": "execute_result"
    }
   ],
   "source": [
    "df.isna().sum()"
   ]
  },
  {
   "cell_type": "code",
   "execution_count": 23,
   "id": "d357b9a9",
   "metadata": {},
   "outputs": [
    {
     "data": {
      "text/plain": [
       "CERTIFIED    2818282\n",
       "DENIED         94364\n",
       "Name: CASE_STATUS, dtype: int64"
      ]
     },
     "execution_count": 23,
     "metadata": {},
     "output_type": "execute_result"
    }
   ],
   "source": [
    "df['CASE_STATUS'].value_counts()"
   ]
  },
  {
   "cell_type": "code",
   "execution_count": 24,
   "id": "478462d6",
   "metadata": {},
   "outputs": [],
   "source": [
    "# AS we can see our certified and denied cases are imbalanced ,we have more certified values than denied"
   ]
  },
  {
   "cell_type": "code",
   "execution_count": 25,
   "id": "febb84a4",
   "metadata": {},
   "outputs": [
    {
     "name": "stdout",
     "output_type": "stream",
     "text": [
      "The imbalance ratio is  29.86607180704506\n"
     ]
    }
   ],
   "source": [
    "# Calculating imbalance ratio between certified and denied classes\n",
    "\n",
    "certified_count = 2818282\n",
    "\n",
    "denied_count = 94364\n",
    "\n",
    "imbalance_ratio = certified_count/ denied_count\n",
    "\n",
    "print(\"The imbalance ratio is \",imbalance_ratio)"
   ]
  },
  {
   "cell_type": "code",
   "execution_count": 26,
   "id": "5e36999d",
   "metadata": {},
   "outputs": [],
   "source": [
    "# This means that the number of certified cases is around 30 times higher than the number of denied cases, indicating a highly imbalanced dataset."
   ]
  },
  {
   "cell_type": "code",
   "execution_count": 27,
   "id": "1364e44e",
   "metadata": {},
   "outputs": [
    {
     "name": "stdout",
     "output_type": "stream",
     "text": [
      "CERTIFIED    94364\n",
      "DENIED       94364\n",
      "Name: CASE_STATUS, dtype: int64\n"
     ]
    }
   ],
   "source": [
    "# We will use downsampling technique to balance the case_status\n",
    "\n",
    "from sklearn.utils import resample\n",
    "\n",
    "# Separate majority and minority classes\n",
    "df_majority = df[df['CASE_STATUS'] == 'CERTIFIED']\n",
    "df_minority = df[df['CASE_STATUS'] == 'DENIED']\n",
    "\n",
    "# Downsample majority class\n",
    "df_majority_downsampled = resample(df_majority, \n",
    "                                   replace=False,    # sample without replacement\n",
    "                                   n_samples=len(df_minority),    # match minority class size\n",
    "                                   random_state=42)  # reproducible results\n",
    "\n",
    "# Combine minority class with downsampled majority class\n",
    "df_downsampled = pd.concat([df_majority_downsampled, df_minority])\n",
    "\n",
    "# Display new class counts\n",
    "print(df_downsampled['CASE_STATUS'].value_counts())"
   ]
  },
  {
   "cell_type": "code",
   "execution_count": 28,
   "id": "f0b5c4ed",
   "metadata": {},
   "outputs": [
    {
     "data": {
      "text/html": [
       "<div>\n",
       "<style scoped>\n",
       "    .dataframe tbody tr th:only-of-type {\n",
       "        vertical-align: middle;\n",
       "    }\n",
       "\n",
       "    .dataframe tbody tr th {\n",
       "        vertical-align: top;\n",
       "    }\n",
       "\n",
       "    .dataframe thead th {\n",
       "        text-align: right;\n",
       "    }\n",
       "</style>\n",
       "<table border=\"1\" class=\"dataframe\">\n",
       "  <thead>\n",
       "    <tr style=\"text-align: right;\">\n",
       "      <th></th>\n",
       "      <th>CASE_STATUS</th>\n",
       "      <th>EMPLOYER_NAME</th>\n",
       "      <th>SOC_NAME</th>\n",
       "      <th>FULL_TIME_POSITION</th>\n",
       "      <th>PREVAILING_WAGE</th>\n",
       "      <th>YEAR</th>\n",
       "      <th>WORKSITE</th>\n",
       "    </tr>\n",
       "  </thead>\n",
       "  <tbody>\n",
       "    <tr>\n",
       "      <th>2052448</th>\n",
       "      <td>CERTIFIED</td>\n",
       "      <td>SAN DIEGO COUNTY CREDIT UNION</td>\n",
       "      <td>Software Developers, Applications</td>\n",
       "      <td>Y</td>\n",
       "      <td>83075.00</td>\n",
       "      <td>2013.0</td>\n",
       "      <td>SAN DIEGO, CALIFORNIA</td>\n",
       "    </tr>\n",
       "    <tr>\n",
       "      <th>1227785</th>\n",
       "      <td>CERTIFIED</td>\n",
       "      <td>IT TRAILBLAZERS, LLC</td>\n",
       "      <td>COMPUTER OCCUPATIONS, ALL OTHER</td>\n",
       "      <td>Y</td>\n",
       "      <td>43742.00</td>\n",
       "      <td>2015.0</td>\n",
       "      <td>MENOMONEE FALLS, WISCONSIN</td>\n",
       "    </tr>\n",
       "    <tr>\n",
       "      <th>1336620</th>\n",
       "      <td>CERTIFIED</td>\n",
       "      <td>HEALTH RESEARCH, INC.</td>\n",
       "      <td>Life Scientists, All Other</td>\n",
       "      <td>Y</td>\n",
       "      <td>52502.06</td>\n",
       "      <td>2014.0</td>\n",
       "      <td>ALBANY, NEW YORK</td>\n",
       "    </tr>\n",
       "    <tr>\n",
       "      <th>1406506</th>\n",
       "      <td>CERTIFIED</td>\n",
       "      <td>CYNOSURE TECHNOLOGIES, LLC</td>\n",
       "      <td>Computer Systems Analysts</td>\n",
       "      <td>Y</td>\n",
       "      <td>56680.00</td>\n",
       "      <td>2014.0</td>\n",
       "      <td>HOUSTON, TEXAS</td>\n",
       "    </tr>\n",
       "    <tr>\n",
       "      <th>2183048</th>\n",
       "      <td>CERTIFIED</td>\n",
       "      <td>EMC CORPORATION</td>\n",
       "      <td>Software Developers, Applications</td>\n",
       "      <td>Y</td>\n",
       "      <td>100027.00</td>\n",
       "      <td>2013.0</td>\n",
       "      <td>HOPKINTON, MASSACHUSETTS</td>\n",
       "    </tr>\n",
       "    <tr>\n",
       "      <th>...</th>\n",
       "      <td>...</td>\n",
       "      <td>...</td>\n",
       "      <td>...</td>\n",
       "      <td>...</td>\n",
       "      <td>...</td>\n",
       "      <td>...</td>\n",
       "      <td>...</td>\n",
       "    </tr>\n",
       "    <tr>\n",
       "      <th>3002370</th>\n",
       "      <td>DENIED</td>\n",
       "      <td>CUSTOMTBT, LLC</td>\n",
       "      <td>Instructional Coordinators</td>\n",
       "      <td>Y</td>\n",
       "      <td>46738.00</td>\n",
       "      <td>2011.0</td>\n",
       "      <td>MARIETTA, GEORGIA</td>\n",
       "    </tr>\n",
       "    <tr>\n",
       "      <th>3002379</th>\n",
       "      <td>DENIED</td>\n",
       "      <td>KEVIN PARK &amp; ASSOCIATES, LTD</td>\n",
       "      <td>Accountants and Auditors</td>\n",
       "      <td>Y</td>\n",
       "      <td>45760.00</td>\n",
       "      <td>2011.0</td>\n",
       "      <td>ARLINGTON HEIGHTS, ILLINOIS</td>\n",
       "    </tr>\n",
       "    <tr>\n",
       "      <th>3002384</th>\n",
       "      <td>DENIED</td>\n",
       "      <td>IVERTIX INCORPORATED</td>\n",
       "      <td>Computer Programmers</td>\n",
       "      <td>Y</td>\n",
       "      <td>54080.00</td>\n",
       "      <td>2011.0</td>\n",
       "      <td>WASHINGTON, DISTRICT OF COLUMBIA</td>\n",
       "    </tr>\n",
       "    <tr>\n",
       "      <th>3002390</th>\n",
       "      <td>DENIED</td>\n",
       "      <td>PROGRESSIVE SURFACE, INC.</td>\n",
       "      <td>Sales Engineers</td>\n",
       "      <td>Y</td>\n",
       "      <td>55141.00</td>\n",
       "      <td>2011.0</td>\n",
       "      <td>GRAND RAPIDS, MICHIGAN</td>\n",
       "    </tr>\n",
       "    <tr>\n",
       "      <th>3002393</th>\n",
       "      <td>DENIED</td>\n",
       "      <td>PEI PARTNERSHIP ARCHITECTS LLP</td>\n",
       "      <td>Architectural and Civil Drafters</td>\n",
       "      <td>Y</td>\n",
       "      <td>69368.00</td>\n",
       "      <td>2011.0</td>\n",
       "      <td>NEW YORK, NEW YORK</td>\n",
       "    </tr>\n",
       "  </tbody>\n",
       "</table>\n",
       "<p>188728 rows × 7 columns</p>\n",
       "</div>"
      ],
      "text/plain": [
       "        CASE_STATUS                   EMPLOYER_NAME  \\\n",
       "2052448   CERTIFIED   SAN DIEGO COUNTY CREDIT UNION   \n",
       "1227785   CERTIFIED            IT TRAILBLAZERS, LLC   \n",
       "1336620   CERTIFIED           HEALTH RESEARCH, INC.   \n",
       "1406506   CERTIFIED      CYNOSURE TECHNOLOGIES, LLC   \n",
       "2183048   CERTIFIED                 EMC CORPORATION   \n",
       "...             ...                             ...   \n",
       "3002370      DENIED                  CUSTOMTBT, LLC   \n",
       "3002379      DENIED    KEVIN PARK & ASSOCIATES, LTD   \n",
       "3002384      DENIED            IVERTIX INCORPORATED   \n",
       "3002390      DENIED       PROGRESSIVE SURFACE, INC.   \n",
       "3002393      DENIED  PEI PARTNERSHIP ARCHITECTS LLP   \n",
       "\n",
       "                                  SOC_NAME FULL_TIME_POSITION  \\\n",
       "2052448  Software Developers, Applications                  Y   \n",
       "1227785    COMPUTER OCCUPATIONS, ALL OTHER                  Y   \n",
       "1336620         Life Scientists, All Other                  Y   \n",
       "1406506          Computer Systems Analysts                  Y   \n",
       "2183048  Software Developers, Applications                  Y   \n",
       "...                                    ...                ...   \n",
       "3002370         Instructional Coordinators                  Y   \n",
       "3002379           Accountants and Auditors                  Y   \n",
       "3002384               Computer Programmers                  Y   \n",
       "3002390                    Sales Engineers                  Y   \n",
       "3002393   Architectural and Civil Drafters                  Y   \n",
       "\n",
       "         PREVAILING_WAGE    YEAR                          WORKSITE  \n",
       "2052448         83075.00  2013.0             SAN DIEGO, CALIFORNIA  \n",
       "1227785         43742.00  2015.0        MENOMONEE FALLS, WISCONSIN  \n",
       "1336620         52502.06  2014.0                  ALBANY, NEW YORK  \n",
       "1406506         56680.00  2014.0                    HOUSTON, TEXAS  \n",
       "2183048        100027.00  2013.0          HOPKINTON, MASSACHUSETTS  \n",
       "...                  ...     ...                               ...  \n",
       "3002370         46738.00  2011.0                 MARIETTA, GEORGIA  \n",
       "3002379         45760.00  2011.0       ARLINGTON HEIGHTS, ILLINOIS  \n",
       "3002384         54080.00  2011.0  WASHINGTON, DISTRICT OF COLUMBIA  \n",
       "3002390         55141.00  2011.0            GRAND RAPIDS, MICHIGAN  \n",
       "3002393         69368.00  2011.0                NEW YORK, NEW YORK  \n",
       "\n",
       "[188728 rows x 7 columns]"
      ]
     },
     "execution_count": 28,
     "metadata": {},
     "output_type": "execute_result"
    }
   ],
   "source": [
    "df_downsampled"
   ]
  },
  {
   "cell_type": "code",
   "execution_count": 29,
   "id": "1769dda2",
   "metadata": {},
   "outputs": [
    {
     "data": {
      "image/png": "[encoded data removed]",
      "text/plain": [
       "<Figure size 720x360 with 2 Axes>"
      ]
     },
     "metadata": {
      "needs_background": "light"
     },
     "output_type": "display_data"
    }
   ],
   "source": [
    "fig, axs = plt.subplots(1, 2, figsize=(10,5))\n",
    "\n",
    "# Define color scheme for bar graph\n",
    "colors = ['#1f77b4', '#ff7f0e']\n",
    "\n",
    "# Plot bar chart of 'CASE_STATUS' before downsampling\n",
    "df['CASE_STATUS'].value_counts().plot(kind='bar', ax=axs[0], color=colors[0])\n",
    "axs[0].set_title('Count(CASE_STATUS)- Before Downsample')\n",
    "\n",
    "# Plot bar chart of 'CASE_STATUS' after downsampling\n",
    "df_downsampled.CASE_STATUS.value_counts().plot(kind='bar', ax=axs[1], color=colors[1])\n",
    "axs[1].set_title('Count(CASE_STATUS)-After Downsample')\n",
    "\n",
    "# Add spacing between subplots and display plot\n",
    "plt.tight_layout()\n",
    "plt.show()"
   ]
  },
  {
   "cell_type": "code",
   "execution_count": 30,
   "id": "d377e714",
   "metadata": {},
   "outputs": [
    {
     "name": "stdout",
     "output_type": "stream",
     "text": [
      "<class 'pandas.core.frame.DataFrame'>\n",
      "Int64Index: 188728 entries, 2052448 to 3002393\n",
      "Data columns (total 7 columns):\n",
      " #   Column              Non-Null Count   Dtype  \n",
      "---  ------              --------------   -----  \n",
      " 0   CASE_STATUS         188728 non-null  object \n",
      " 1   EMPLOYER_NAME       188721 non-null  object \n",
      " 2   SOC_NAME            187621 non-null  object \n",
      " 3   FULL_TIME_POSITION  188727 non-null  object \n",
      " 4   PREVAILING_WAGE     188675 non-null  float64\n",
      " 5   YEAR                188728 non-null  float64\n",
      " 6   WORKSITE            188728 non-null  object \n",
      "dtypes: float64(2), object(5)\n",
      "memory usage: 11.5+ MB\n"
     ]
    }
   ],
   "source": [
    "df_downsampled.info()"
   ]
  },
  {
   "cell_type": "code",
   "execution_count": 31,
   "id": "11c416ec",
   "metadata": {},
   "outputs": [
    {
     "name": "stderr",
     "output_type": "stream",
     "text": [
      "C:\\Users\\parth\\anaconda3\\lib\\site-packages\\seaborn\\_core.py:1326: UserWarning: Vertical orientation ignored with only `x` specified.\n",
      "  warnings.warn(single_var_warning.format(\"Vertical\", \"x\"))\n"
     ]
    },
    {
     "data": {
      "text/plain": [
       "<AxesSubplot:xlabel='PREVAILING_WAGE'>"
      ]
     },
     "execution_count": 31,
     "metadata": {},
     "output_type": "execute_result"
    },
    {
     "data": {
      "image/png": "[encoded data removed]",
      "text/plain": [
       "<Figure size 432x288 with 1 Axes>"
      ]
     },
     "metadata": {
      "needs_background": "light"
     },
     "output_type": "display_data"
    }
   ],
   "source": [
    "#Now we have one float variable other than year which is prevailing wage ,checking if there are any ourtliers present in this code\n",
    "\n",
    "sns.boxplot(x=df['PREVAILING_WAGE'], orient='v', color='lightblue', fliersize=5)\n"
   ]
  },
  {
   "cell_type": "code",
   "execution_count": 32,
   "id": "3d1f3d75",
   "metadata": {},
   "outputs": [
    {
     "data": {
      "text/plain": [
       "<AxesSubplot:xlabel='PREVAILING_WAGE'>"
      ]
     },
     "execution_count": 32,
     "metadata": {},
     "output_type": "execute_result"
    },
    {
     "data": {
      "image/png": "[encoded data removed]",
      "text/plain": [
       "<Figure size 432x288 with 1 Axes>"
      ]
     },
     "metadata": {
      "needs_background": "light"
     },
     "output_type": "display_data"
    }
   ],
   "source": [
    "# calculate the interquartile range (IQR) of the 'PREVAILING_WAGE' column\n",
    "Q1 = df_downsampled['PREVAILING_WAGE'].quantile(0.25)\n",
    "Q3 = df_downsampled['PREVAILING_WAGE'].quantile(0.75)\n",
    "IQR = Q3 - Q1\n",
    "\n",
    "# identify outliers as values that fall outside the IQR range\n",
    "lower_limit = Q1 - 1.5 * IQR\n",
    "upper_limit = Q3 + 1.5 * IQR\n",
    "outliers = df_downsampled[(df_downsampled['PREVAILING_WAGE'] < lower_limit) | (df_downsampled['PREVAILING_WAGE'] > upper_limit)]\n",
    "\n",
    "# plot a boxplot of the 'PREVAILING_WAGE' column with outliers highlighted\n",
    "sns.boxplot(x=df_downsampled['PREVAILING_WAGE'])\n",
    "sns.stripplot(x=outliers['PREVAILING_WAGE'], color='red', alpha=0.5)"
   ]
  },
  {
   "cell_type": "code",
   "execution_count": 33,
   "id": "6912d70e",
   "metadata": {},
   "outputs": [
    {
     "data": {
      "text/plain": [
       "9643"
      ]
     },
     "execution_count": 33,
     "metadata": {},
     "output_type": "execute_result"
    }
   ],
   "source": [
    "Q1 = df_downsampled['PREVAILING_WAGE'].quantile(0.25)\n",
    "Q3 = df_downsampled['PREVAILING_WAGE'].quantile(0.75)\n",
    "IQR = Q3 - Q1\n",
    "\n",
    "outliers = df_downsampled[(df_downsampled['PREVAILING_WAGE'] < Q1 - 1.5*IQR) | (df_downsampled['PREVAILING_WAGE'] > Q3 + 1.5*IQR)]\n",
    "\n",
    "num_outliers = len(outliers)\n",
    "num_outliers"
   ]
  },
  {
   "cell_type": "code",
   "execution_count": 34,
   "id": "6c1427f4",
   "metadata": {},
   "outputs": [],
   "source": [
    "# Dropping the outliers\n",
    "df_downsampled = df_downsampled[(df_downsampled['PREVAILING_WAGE'] > (Q1 - 1.5 * IQR)) & (df_downsampled['PREVAILING_WAGE'] < (Q3 + 1.5 * IQR))]"
   ]
  },
  {
   "cell_type": "code",
   "execution_count": 35,
   "id": "6c241cf1",
   "metadata": {},
   "outputs": [
    {
     "data": {
      "text/plain": [
       "(179032, 7)"
      ]
     },
     "execution_count": 35,
     "metadata": {},
     "output_type": "execute_result"
    }
   ],
   "source": [
    "df_downsampled.shape"
   ]
  },
  {
   "cell_type": "code",
   "execution_count": 36,
   "id": "b70d7a06",
   "metadata": {},
   "outputs": [
    {
     "data": {
      "image/png": "[encoded data removed]",
      "text/plain": [
       "<Figure size 864x360 with 2 Axes>"
      ]
     },
     "metadata": {
      "needs_background": "light"
     },
     "output_type": "display_data"
    }
   ],
   "source": [
    "# create a figure with two subplots\n",
    "fig, axs = plt.subplots(1, 2, figsize=(12, 5))\n",
    "\n",
    "# plot the density plot of 'PREVAILING_WAGE' before removing outliers in the first subplot\n",
    "sns.kdeplot(df['PREVAILING_WAGE'], shade=True, ax=axs[0])\n",
    "axs[0].set_xlabel('PREVAILING_WAGE')\n",
    "axs[0].set_ylabel('Density')\n",
    "axs[0].set_title('Density Plot of PREVAILING_WAGE (Before Removing Outliers)')\n",
    "\n",
    "# plot the density plot of 'PREVAILING_WAGE' after removing outliers in the second subplot\n",
    "sns.kdeplot(df_downsampled['PREVAILING_WAGE'], shade=True, ax=axs[1])\n",
    "axs[1].set_xlabel('PREVAILING_WAGE')\n",
    "axs[1].set_ylabel('Density')\n",
    "axs[1].set_title('Density Plot of PREVAILING_WAGE (After Removing Outliers)')\n",
    "\n",
    "# add spacing between subplots and display the plot\n",
    "plt.tight_layout()\n",
    "plt.show()"
   ]
  },
  {
   "cell_type": "code",
   "execution_count": 37,
   "id": "7ad80d0a",
   "metadata": {},
   "outputs": [
    {
     "name": "stderr",
     "output_type": "stream",
     "text": [
      "C:\\Users\\parth\\AppData\\Local\\Temp\\ipykernel_13444\\694304016.py:1: SettingWithCopyWarning: \n",
      "A value is trying to be set on a copy of a slice from a DataFrame.\n",
      "Try using .loc[row_indexer,col_indexer] = value instead\n",
      "\n",
      "See the caveats in the documentation: https://pandas.pydata.org/pandas-docs/stable/user_guide/indexing.html#returning-a-view-versus-a-copy\n",
      "  df_downsampled.EMPLOYER_NAME = df_downsampled.EMPLOYER_NAME.str.lower()\n",
      "C:\\Users\\parth\\AppData\\Local\\Temp\\ipykernel_13444\\694304016.py:20: SettingWithCopyWarning: \n",
      "A value is trying to be set on a copy of a slice from a DataFrame.\n",
      "Try using .loc[row_indexer,col_indexer] = value instead\n",
      "\n",
      "See the caveats in the documentation: https://pandas.pydata.org/pandas-docs/stable/user_guide/indexing.html#returning-a-view-versus-a-copy\n",
      "  df_downsampled.replace(emp_name, regex=True, inplace=True)\n"
     ]
    }
   ],
   "source": [
    "df_downsampled.EMPLOYER_NAME = df_downsampled.EMPLOYER_NAME.str.lower()\n",
    "emp_name = {\n",
    "   'EMPLOYER_NAME': {\n",
    "      r\"[.\\-,);\\\"'(+/]|(&QUOT;)\":'', \n",
    "      r'ltd':'limited',\n",
    "      r'(&amp;)|&':'and',r'(.*gates corporation.*$)':'gates corporation',\n",
    "      r'corp$':'corporation',\n",
    "      r'^europeanamerican':'european american',\n",
    "      r'(.*euromarket designs inc.*$)':'euro market designs inc',\n",
    "      r'(.*eurofins lancaster laboratories*$)':'eurofins lancaster laboratories inc',\n",
    "      r'^eurocolletion|^eurocollection':'euro collection',\n",
    "      r'^technosoft':'techno soft',\n",
    "      r'^healthcare':'health care',\n",
    "      r'^healthplan':'health plan',\n",
    "      r'warner university inc':'warner university',\n",
    "      r'grouppc$':'group pc',\n",
    "      r'americasinc$':'americas inc'}\n",
    "}\n",
    "\n",
    "df_downsampled.replace(emp_name, regex=True, inplace=True)\n",
    "\n",
    "#Remove rows of the employers with less than 4 application  \n",
    "cdf_dict = df_downsampled.EMPLOYER_NAME.value_counts().to_dict()\n",
    "emp_list = [k for k,v in cdf_dict.items() if v<=4]\n",
    "len(emp_list)\n",
    "df_downsampled = df_downsampled[~df_downsampled.EMPLOYER_NAME.isin(emp_list)]"
   ]
  },
  {
   "cell_type": "code",
   "execution_count": 38,
   "id": "9efb1a4d",
   "metadata": {},
   "outputs": [],
   "source": [
    "# Feature 3: SOC_NAME\n",
    "#remove special characters to uniform format\n",
    "df_downsampled['SOC_NAME']=df_downsampled['SOC_NAME'].str.lower()\n",
    "\n",
    "soc = {\n",
    "   'SOC_NAME': {\n",
    "      r\"[*.\\-,);\\\"'(+/]|<font>|</font>|(^[0-9]$)\":'', r'&amp|&':' and '}}\n",
    "    \n",
    "soc = {\n",
    "   'SOC_NAME': {\n",
    "      r'^compute|^computer|^copmuter|^computers|^comuter|^compuer':'computer'}}\n",
    "      \n",
    "soc = {\n",
    "   'SOC_NAME': {\n",
    "      r'induatrial':'industrial'}}\n",
    "soc = {\n",
    "   'SOC_NAME': {      \n",
    "      r'engineers|enginers|engineering|engineerarquitects|enigneers|engineerarchitect':'engineer'}}\n",
    "      \n",
    "soc = {\n",
    "   'SOC_NAME': {\n",
    "      r'analysta|analystt|analyhsts|analys$|anlysts':'analyst'}}\n",
    "      \n",
    "soc = {\n",
    "   'SOC_NAME': {\n",
    "      r'sofware|softare|softwware':'software',\n",
    "      r'^all other|all other$|other$|all othter$':''}}\n",
    "      \n",
    "soc = {\n",
    "   'SOC_NAME': {\n",
    "      r'systemanalyst':'system analyst',\n",
    "      r'hardward':'hardware',\n",
    "      r'aplications|applications|appllications|applicationsssss':'application'}}\n",
    "      \n",
    "soc = {\n",
    "   'SOC_NAME': {\n",
    "      r'dvelopers|developers|developpers': 'developer',\n",
    "      r'datebase':'database',\n",
    "      r'maanger|mangers|managerse|managers':'manager', \n",
    "      r'sysems|systems':'system'}} \n",
    "      \n",
    "       \n",
    "soc = {\n",
    "   'SOC_NAME': {\n",
    "      r'technicans|technicians':'technician',\n",
    "      r'deisgners|designers':'designer',\n",
    "      r'operations':'operation'}}\n",
    "      \n",
    "    \n",
    "soc = {\n",
    "   'SOC_NAME': {\n",
    "      r'except computer non|except computer|except compuer':'', \n",
    "      r'software application developer|application developer':'software developer application'}                    \n",
    "}\n",
    "\n",
    "\n",
    "df_downsampled.replace(soc, regex=True, inplace=True)\n",
    "df_downsampled=df_downsampled[~df_downsampled['SOC_NAME'].str.contains('^[0-9]*$',na=False)]"
   ]
  },
  {
   "cell_type": "code",
   "execution_count": 39,
   "id": "76a51d88",
   "metadata": {},
   "outputs": [],
   "source": [
    "# create a dictionary for mapping job titles to their standardized format\n",
    "job_title_mapping = {\n",
    "    'all other': '',\n",
    "    'analyst': 'analyst',\n",
    "    'application developer': 'software developer application',\n",
    "    'computer': 'computer',\n",
    "    'database': 'database',\n",
    "    'designer': 'designer',\n",
    "    'developer': 'developer',\n",
    "    'engineer': 'engineer',\n",
    "    'hardware': 'hardware',\n",
    "    'industrial': 'industrial',\n",
    "    'manager': 'manager',\n",
    "    'operation': 'operation',\n",
    "    'software': 'software',\n",
    "    'system': 'system',\n",
    "    'system analyst': 'system analyst',\n",
    "    'technician': 'technician'\n",
    "}\n",
    "\n",
    "# replace variations of job titles with their standardized format\n",
    "df_downsampled['SOC_NAME'] = df_downsampled['SOC_NAME'].str.lower().replace(job_title_mapping, regex=False)\n",
    "\n",
    "# remove any rows where the job title is just a number\n",
    "#df_downsampled = df_downsampled[~df_downsampled['SOC_NAME'].str.isnumeric()]\n"
   ]
  },
  {
   "cell_type": "code",
   "execution_count": 40,
   "id": "338f9a49",
   "metadata": {
    "scrolled": false
   },
   "outputs": [
    {
     "data": {
      "text/plain": [
       "559"
      ]
     },
     "execution_count": 40,
     "metadata": {},
     "output_type": "execute_result"
    }
   ],
   "source": [
    "len(df_downsampled['SOC_NAME'].unique())"
   ]
  },
  {
   "cell_type": "code",
   "execution_count": 41,
   "id": "61cb23ad",
   "metadata": {},
   "outputs": [],
   "source": [
    "df_downsampled['PREVAILING_WAGE'] = np.where((df_downsampled['PREVAILING_WAGE'] > 0) & (df_downsampled['PREVAILING_WAGE']<= 30000), 'low', np.where((df_downsampled['PREVAILING_WAGE'] > 30000) & (df_downsampled['PREVAILING_WAGE']<= 60000), 'medium', 'high'))"
   ]
  },
  {
   "cell_type": "code",
   "execution_count": 42,
   "id": "7f2740c1",
   "metadata": {},
   "outputs": [
    {
     "data": {
      "text/plain": [
       "3"
      ]
     },
     "execution_count": 42,
     "metadata": {},
     "output_type": "execute_result"
    }
   ],
   "source": [
    "len(df_downsampled['PREVAILING_WAGE'].unique())"
   ]
  },
  {
   "cell_type": "code",
   "execution_count": 43,
   "id": "edc4665e",
   "metadata": {},
   "outputs": [
    {
     "data": {
      "text/plain": [
       "1227785    1\n",
       "1336620    1\n",
       "2183048    1\n",
       "311274     1\n",
       "2571038    1\n",
       "          ..\n",
       "3002354    1\n",
       "3002355    1\n",
       "3002357    1\n",
       "3002365    1\n",
       "3002368    1\n",
       "Name: FULL_TIME_POSITION, Length: 95538, dtype: int32"
      ]
     },
     "execution_count": 43,
     "metadata": {},
     "output_type": "execute_result"
    }
   ],
   "source": [
    "df_downsampled['FULL_TIME_POSITION']=df_downsampled['FULL_TIME_POSITION'].replace({'Y': 1, 'N': 0})\n",
    "df_downsampled.FULL_TIME_POSITION.astype(int)"
   ]
  },
  {
   "cell_type": "code",
   "execution_count": 44,
   "id": "2cf629dd",
   "metadata": {},
   "outputs": [],
   "source": [
    "df_downsampled[['EMPLOYER_NAME','SOC_NAME','WORKSITE','YEAR']] = df_downsampled[['EMPLOYER_NAME','SOC_NAME','WORKSITE','YEAR']].apply(lambda x: x.astype('category'))\n"
   ]
  },
  {
   "cell_type": "code",
   "execution_count": 45,
   "id": "2417ac35",
   "metadata": {},
   "outputs": [],
   "source": [
    "categorical_col=['PREVAILING_WAGE','EMPLOYER_NAME','SOC_NAME','WORKSITE','YEAR']\n",
    "dummy_df = pd.get_dummies(df_downsampled[categorical_col])\n",
    "df_downsampled =pd.concat([df_downsampled,dummy_df],axis=1)\n",
    "df_downsampled =df_downsampled.drop(categorical_col,axis=1)"
   ]
  },
  {
   "cell_type": "code",
   "execution_count": 46,
   "id": "742ba8a0",
   "metadata": {},
   "outputs": [
    {
     "data": {
      "text/html": [
       "<div>\n",
       "<style scoped>\n",
       "    .dataframe tbody tr th:only-of-type {\n",
       "        vertical-align: middle;\n",
       "    }\n",
       "\n",
       "    .dataframe tbody tr th {\n",
       "        vertical-align: top;\n",
       "    }\n",
       "\n",
       "    .dataframe thead th {\n",
       "        text-align: right;\n",
       "    }\n",
       "</style>\n",
       "<table border=\"1\" class=\"dataframe\">\n",
       "  <thead>\n",
       "    <tr style=\"text-align: right;\">\n",
       "      <th></th>\n",
       "      <th>CASE_STATUS</th>\n",
       "      <th>FULL_TIME_POSITION</th>\n",
       "      <th>PREVAILING_WAGE_high</th>\n",
       "      <th>PREVAILING_WAGE_low</th>\n",
       "      <th>PREVAILING_WAGE_medium</th>\n",
       "      <th>EMPLOYER_NAME_161 hudson cafe llc</th>\n",
       "      <th>EMPLOYER_NAME_18 fools llc</th>\n",
       "      <th>EMPLOYER_NAME_18|8 solutions inc</th>\n",
       "      <th>EMPLOYER_NAME_22nd century technologies inc</th>\n",
       "      <th>EMPLOYER_NAME_360i llc</th>\n",
       "      <th>...</th>\n",
       "      <th>WORKSITE_YPSILANTI, MICHIGAN</th>\n",
       "      <th>WORKSITE_YUMA, ARIZONA</th>\n",
       "      <th>WORKSITE_ZACHARY, LOUISIANA</th>\n",
       "      <th>WORKSITE_ZEPHYRHILLS, FLORIDA</th>\n",
       "      <th>YEAR_2011.0</th>\n",
       "      <th>YEAR_2012.0</th>\n",
       "      <th>YEAR_2013.0</th>\n",
       "      <th>YEAR_2014.0</th>\n",
       "      <th>YEAR_2015.0</th>\n",
       "      <th>YEAR_2016.0</th>\n",
       "    </tr>\n",
       "  </thead>\n",
       "  <tbody>\n",
       "    <tr>\n",
       "      <th>1227785</th>\n",
       "      <td>CERTIFIED</td>\n",
       "      <td>1</td>\n",
       "      <td>0</td>\n",
       "      <td>0</td>\n",
       "      <td>1</td>\n",
       "      <td>0</td>\n",
       "      <td>0</td>\n",
       "      <td>0</td>\n",
       "      <td>0</td>\n",
       "      <td>0</td>\n",
       "      <td>...</td>\n",
       "      <td>0</td>\n",
       "      <td>0</td>\n",
       "      <td>0</td>\n",
       "      <td>0</td>\n",
       "      <td>0</td>\n",
       "      <td>0</td>\n",
       "      <td>0</td>\n",
       "      <td>0</td>\n",
       "      <td>1</td>\n",
       "      <td>0</td>\n",
       "    </tr>\n",
       "    <tr>\n",
       "      <th>1336620</th>\n",
       "      <td>CERTIFIED</td>\n",
       "      <td>1</td>\n",
       "      <td>0</td>\n",
       "      <td>0</td>\n",
       "      <td>1</td>\n",
       "      <td>0</td>\n",
       "      <td>0</td>\n",
       "      <td>0</td>\n",
       "      <td>0</td>\n",
       "      <td>0</td>\n",
       "      <td>...</td>\n",
       "      <td>0</td>\n",
       "      <td>0</td>\n",
       "      <td>0</td>\n",
       "      <td>0</td>\n",
       "      <td>0</td>\n",
       "      <td>0</td>\n",
       "      <td>0</td>\n",
       "      <td>1</td>\n",
       "      <td>0</td>\n",
       "      <td>0</td>\n",
       "    </tr>\n",
       "    <tr>\n",
       "      <th>2183048</th>\n",
       "      <td>CERTIFIED</td>\n",
       "      <td>1</td>\n",
       "      <td>1</td>\n",
       "      <td>0</td>\n",
       "      <td>0</td>\n",
       "      <td>0</td>\n",
       "      <td>0</td>\n",
       "      <td>0</td>\n",
       "      <td>0</td>\n",
       "      <td>0</td>\n",
       "      <td>...</td>\n",
       "      <td>0</td>\n",
       "      <td>0</td>\n",
       "      <td>0</td>\n",
       "      <td>0</td>\n",
       "      <td>0</td>\n",
       "      <td>0</td>\n",
       "      <td>1</td>\n",
       "      <td>0</td>\n",
       "      <td>0</td>\n",
       "      <td>0</td>\n",
       "    </tr>\n",
       "    <tr>\n",
       "      <th>311274</th>\n",
       "      <td>CERTIFIED</td>\n",
       "      <td>1</td>\n",
       "      <td>1</td>\n",
       "      <td>0</td>\n",
       "      <td>0</td>\n",
       "      <td>0</td>\n",
       "      <td>0</td>\n",
       "      <td>0</td>\n",
       "      <td>0</td>\n",
       "      <td>0</td>\n",
       "      <td>...</td>\n",
       "      <td>0</td>\n",
       "      <td>0</td>\n",
       "      <td>0</td>\n",
       "      <td>0</td>\n",
       "      <td>0</td>\n",
       "      <td>0</td>\n",
       "      <td>0</td>\n",
       "      <td>0</td>\n",
       "      <td>0</td>\n",
       "      <td>1</td>\n",
       "    </tr>\n",
       "    <tr>\n",
       "      <th>2571038</th>\n",
       "      <td>CERTIFIED</td>\n",
       "      <td>1</td>\n",
       "      <td>0</td>\n",
       "      <td>0</td>\n",
       "      <td>1</td>\n",
       "      <td>0</td>\n",
       "      <td>0</td>\n",
       "      <td>0</td>\n",
       "      <td>0</td>\n",
       "      <td>0</td>\n",
       "      <td>...</td>\n",
       "      <td>0</td>\n",
       "      <td>0</td>\n",
       "      <td>0</td>\n",
       "      <td>0</td>\n",
       "      <td>0</td>\n",
       "      <td>1</td>\n",
       "      <td>0</td>\n",
       "      <td>0</td>\n",
       "      <td>0</td>\n",
       "      <td>0</td>\n",
       "    </tr>\n",
       "    <tr>\n",
       "      <th>...</th>\n",
       "      <td>...</td>\n",
       "      <td>...</td>\n",
       "      <td>...</td>\n",
       "      <td>...</td>\n",
       "      <td>...</td>\n",
       "      <td>...</td>\n",
       "      <td>...</td>\n",
       "      <td>...</td>\n",
       "      <td>...</td>\n",
       "      <td>...</td>\n",
       "      <td>...</td>\n",
       "      <td>...</td>\n",
       "      <td>...</td>\n",
       "      <td>...</td>\n",
       "      <td>...</td>\n",
       "      <td>...</td>\n",
       "      <td>...</td>\n",
       "      <td>...</td>\n",
       "      <td>...</td>\n",
       "      <td>...</td>\n",
       "      <td>...</td>\n",
       "    </tr>\n",
       "    <tr>\n",
       "      <th>3002354</th>\n",
       "      <td>DENIED</td>\n",
       "      <td>1</td>\n",
       "      <td>0</td>\n",
       "      <td>0</td>\n",
       "      <td>1</td>\n",
       "      <td>0</td>\n",
       "      <td>0</td>\n",
       "      <td>0</td>\n",
       "      <td>0</td>\n",
       "      <td>0</td>\n",
       "      <td>...</td>\n",
       "      <td>0</td>\n",
       "      <td>0</td>\n",
       "      <td>0</td>\n",
       "      <td>0</td>\n",
       "      <td>1</td>\n",
       "      <td>0</td>\n",
       "      <td>0</td>\n",
       "      <td>0</td>\n",
       "      <td>0</td>\n",
       "      <td>0</td>\n",
       "    </tr>\n",
       "    <tr>\n",
       "      <th>3002355</th>\n",
       "      <td>DENIED</td>\n",
       "      <td>1</td>\n",
       "      <td>0</td>\n",
       "      <td>0</td>\n",
       "      <td>1</td>\n",
       "      <td>0</td>\n",
       "      <td>0</td>\n",
       "      <td>0</td>\n",
       "      <td>0</td>\n",
       "      <td>0</td>\n",
       "      <td>...</td>\n",
       "      <td>0</td>\n",
       "      <td>0</td>\n",
       "      <td>0</td>\n",
       "      <td>0</td>\n",
       "      <td>1</td>\n",
       "      <td>0</td>\n",
       "      <td>0</td>\n",
       "      <td>0</td>\n",
       "      <td>0</td>\n",
       "      <td>0</td>\n",
       "    </tr>\n",
       "    <tr>\n",
       "      <th>3002357</th>\n",
       "      <td>DENIED</td>\n",
       "      <td>1</td>\n",
       "      <td>0</td>\n",
       "      <td>0</td>\n",
       "      <td>1</td>\n",
       "      <td>0</td>\n",
       "      <td>0</td>\n",
       "      <td>0</td>\n",
       "      <td>0</td>\n",
       "      <td>0</td>\n",
       "      <td>...</td>\n",
       "      <td>0</td>\n",
       "      <td>0</td>\n",
       "      <td>0</td>\n",
       "      <td>0</td>\n",
       "      <td>1</td>\n",
       "      <td>0</td>\n",
       "      <td>0</td>\n",
       "      <td>0</td>\n",
       "      <td>0</td>\n",
       "      <td>0</td>\n",
       "    </tr>\n",
       "    <tr>\n",
       "      <th>3002365</th>\n",
       "      <td>DENIED</td>\n",
       "      <td>1</td>\n",
       "      <td>0</td>\n",
       "      <td>0</td>\n",
       "      <td>1</td>\n",
       "      <td>0</td>\n",
       "      <td>0</td>\n",
       "      <td>0</td>\n",
       "      <td>0</td>\n",
       "      <td>0</td>\n",
       "      <td>...</td>\n",
       "      <td>0</td>\n",
       "      <td>0</td>\n",
       "      <td>0</td>\n",
       "      <td>0</td>\n",
       "      <td>1</td>\n",
       "      <td>0</td>\n",
       "      <td>0</td>\n",
       "      <td>0</td>\n",
       "      <td>0</td>\n",
       "      <td>0</td>\n",
       "    </tr>\n",
       "    <tr>\n",
       "      <th>3002368</th>\n",
       "      <td>DENIED</td>\n",
       "      <td>1</td>\n",
       "      <td>0</td>\n",
       "      <td>0</td>\n",
       "      <td>1</td>\n",
       "      <td>0</td>\n",
       "      <td>0</td>\n",
       "      <td>0</td>\n",
       "      <td>0</td>\n",
       "      <td>0</td>\n",
       "      <td>...</td>\n",
       "      <td>0</td>\n",
       "      <td>0</td>\n",
       "      <td>0</td>\n",
       "      <td>0</td>\n",
       "      <td>1</td>\n",
       "      <td>0</td>\n",
       "      <td>0</td>\n",
       "      <td>0</td>\n",
       "      <td>0</td>\n",
       "      <td>0</td>\n",
       "    </tr>\n",
       "  </tbody>\n",
       "</table>\n",
       "<p>95538 rows × 9088 columns</p>\n",
       "</div>"
      ],
      "text/plain": [
       "        CASE_STATUS  FULL_TIME_POSITION  PREVAILING_WAGE_high  \\\n",
       "1227785   CERTIFIED                   1                     0   \n",
       "1336620   CERTIFIED                   1                     0   \n",
       "2183048   CERTIFIED                   1                     1   \n",
       "311274    CERTIFIED                   1                     1   \n",
       "2571038   CERTIFIED                   1                     0   \n",
       "...             ...                 ...                   ...   \n",
       "3002354      DENIED                   1                     0   \n",
       "3002355      DENIED                   1                     0   \n",
       "3002357      DENIED                   1                     0   \n",
       "3002365      DENIED                   1                     0   \n",
       "3002368      DENIED                   1                     0   \n",
       "\n",
       "         PREVAILING_WAGE_low  PREVAILING_WAGE_medium  \\\n",
       "1227785                    0                       1   \n",
       "1336620                    0                       1   \n",
       "2183048                    0                       0   \n",
       "311274                     0                       0   \n",
       "2571038                    0                       1   \n",
       "...                      ...                     ...   \n",
       "3002354                    0                       1   \n",
       "3002355                    0                       1   \n",
       "3002357                    0                       1   \n",
       "3002365                    0                       1   \n",
       "3002368                    0                       1   \n",
       "\n",
       "         EMPLOYER_NAME_161 hudson cafe llc  EMPLOYER_NAME_18 fools llc  \\\n",
       "1227785                                  0                           0   \n",
       "1336620                                  0                           0   \n",
       "2183048                                  0                           0   \n",
       "311274                                   0                           0   \n",
       "2571038                                  0                           0   \n",
       "...                                    ...                         ...   \n",
       "3002354                                  0                           0   \n",
       "3002355                                  0                           0   \n",
       "3002357                                  0                           0   \n",
       "3002365                                  0                           0   \n",
       "3002368                                  0                           0   \n",
       "\n",
       "         EMPLOYER_NAME_18|8 solutions inc  \\\n",
       "1227785                                 0   \n",
       "1336620                                 0   \n",
       "2183048                                 0   \n",
       "311274                                  0   \n",
       "2571038                                 0   \n",
       "...                                   ...   \n",
       "3002354                                 0   \n",
       "3002355                                 0   \n",
       "3002357                                 0   \n",
       "3002365                                 0   \n",
       "3002368                                 0   \n",
       "\n",
       "         EMPLOYER_NAME_22nd century technologies inc  EMPLOYER_NAME_360i llc  \\\n",
       "1227785                                            0                       0   \n",
       "1336620                                            0                       0   \n",
       "2183048                                            0                       0   \n",
       "311274                                             0                       0   \n",
       "2571038                                            0                       0   \n",
       "...                                              ...                     ...   \n",
       "3002354                                            0                       0   \n",
       "3002355                                            0                       0   \n",
       "3002357                                            0                       0   \n",
       "3002365                                            0                       0   \n",
       "3002368                                            0                       0   \n",
       "\n",
       "         ...  WORKSITE_YPSILANTI, MICHIGAN  WORKSITE_YUMA, ARIZONA  \\\n",
       "1227785  ...                             0                       0   \n",
       "1336620  ...                             0                       0   \n",
       "2183048  ...                             0                       0   \n",
       "311274   ...                             0                       0   \n",
       "2571038  ...                             0                       0   \n",
       "...      ...                           ...                     ...   \n",
       "3002354  ...                             0                       0   \n",
       "3002355  ...                             0                       0   \n",
       "3002357  ...                             0                       0   \n",
       "3002365  ...                             0                       0   \n",
       "3002368  ...                             0                       0   \n",
       "\n",
       "         WORKSITE_ZACHARY, LOUISIANA  WORKSITE_ZEPHYRHILLS, FLORIDA  \\\n",
       "1227785                            0                              0   \n",
       "1336620                            0                              0   \n",
       "2183048                            0                              0   \n",
       "311274                             0                              0   \n",
       "2571038                            0                              0   \n",
       "...                              ...                            ...   \n",
       "3002354                            0                              0   \n",
       "3002355                            0                              0   \n",
       "3002357                            0                              0   \n",
       "3002365                            0                              0   \n",
       "3002368                            0                              0   \n",
       "\n",
       "         YEAR_2011.0  YEAR_2012.0  YEAR_2013.0  YEAR_2014.0  YEAR_2015.0  \\\n",
       "1227785            0            0            0            0            1   \n",
       "1336620            0            0            0            1            0   \n",
       "2183048            0            0            1            0            0   \n",
       "311274             0            0            0            0            0   \n",
       "2571038            0            1            0            0            0   \n",
       "...              ...          ...          ...          ...          ...   \n",
       "3002354            1            0            0            0            0   \n",
       "3002355            1            0            0            0            0   \n",
       "3002357            1            0            0            0            0   \n",
       "3002365            1            0            0            0            0   \n",
       "3002368            1            0            0            0            0   \n",
       "\n",
       "         YEAR_2016.0  \n",
       "1227785            0  \n",
       "1336620            0  \n",
       "2183048            0  \n",
       "311274             1  \n",
       "2571038            0  \n",
       "...              ...  \n",
       "3002354            0  \n",
       "3002355            0  \n",
       "3002357            0  \n",
       "3002365            0  \n",
       "3002368            0  \n",
       "\n",
       "[95538 rows x 9088 columns]"
      ]
     },
     "execution_count": 46,
     "metadata": {},
     "output_type": "execute_result"
    }
   ],
   "source": [
    "df_downsampled"
   ]
  },
  {
   "cell_type": "code",
   "execution_count": 47,
   "id": "707caf97",
   "metadata": {},
   "outputs": [
    {
     "name": "stdout",
     "output_type": "stream",
     "text": [
      "<class 'pandas.core.frame.DataFrame'>\n",
      "Int64Index: 95538 entries, 1227785 to 3002368\n",
      "Columns: 9088 entries, CASE_STATUS to YEAR_2016.0\n",
      "dtypes: int64(1), object(1), uint8(9086)\n",
      "memory usage: 830.0+ MB\n"
     ]
    }
   ],
   "source": [
    "df_downsampled.info()"
   ]
  },
  {
   "cell_type": "code",
   "execution_count": 48,
   "id": "9d56b95d",
   "metadata": {},
   "outputs": [
    {
     "name": "stderr",
     "output_type": "stream",
     "text": [
      "C:\\Users\\parth\\AppData\\Local\\Temp\\ipykernel_13444\\3446964359.py:7: FutureWarning: In a future version of pandas all arguments of DataFrame.drop except for the argument 'labels' will be keyword-only.\n",
      "  x_features = df_downsampled.drop('CASE_STATUS',1)\n"
     ]
    },
    {
     "data": {
      "text/plain": [
       "array([0, 0, 0, ..., 1, 1, 1])"
      ]
     },
     "execution_count": 48,
     "metadata": {},
     "output_type": "execute_result"
    }
   ],
   "source": [
    "from sklearn import preprocessing\n",
    "y = df_downsampled['CASE_STATUS']\n",
    "le = preprocessing.LabelEncoder()\n",
    "le.fit(y)\n",
    "y_encoded = le.transform(y)\n",
    "df_downsampled['CASE_STATUS'] = y_encoded\n",
    "x_features = df_downsampled.drop('CASE_STATUS',1)\n",
    "y_encoded"
   ]
  },
  {
   "cell_type": "code",
   "execution_count": 49,
   "id": "187e0ebb",
   "metadata": {},
   "outputs": [
    {
     "data": {
      "text/html": [
       "<div>\n",
       "<style scoped>\n",
       "    .dataframe tbody tr th:only-of-type {\n",
       "        vertical-align: middle;\n",
       "    }\n",
       "\n",
       "    .dataframe tbody tr th {\n",
       "        vertical-align: top;\n",
       "    }\n",
       "\n",
       "    .dataframe thead th {\n",
       "        text-align: right;\n",
       "    }\n",
       "</style>\n",
       "<table border=\"1\" class=\"dataframe\">\n",
       "  <thead>\n",
       "    <tr style=\"text-align: right;\">\n",
       "      <th></th>\n",
       "      <th>FULL_TIME_POSITION</th>\n",
       "      <th>PREVAILING_WAGE_high</th>\n",
       "      <th>PREVAILING_WAGE_low</th>\n",
       "      <th>PREVAILING_WAGE_medium</th>\n",
       "      <th>EMPLOYER_NAME_161 hudson cafe llc</th>\n",
       "      <th>EMPLOYER_NAME_18 fools llc</th>\n",
       "      <th>EMPLOYER_NAME_18|8 solutions inc</th>\n",
       "      <th>EMPLOYER_NAME_22nd century technologies inc</th>\n",
       "      <th>EMPLOYER_NAME_360i llc</th>\n",
       "      <th>EMPLOYER_NAME_3a soft inc</th>\n",
       "      <th>...</th>\n",
       "      <th>WORKSITE_YPSILANTI, MICHIGAN</th>\n",
       "      <th>WORKSITE_YUMA, ARIZONA</th>\n",
       "      <th>WORKSITE_ZACHARY, LOUISIANA</th>\n",
       "      <th>WORKSITE_ZEPHYRHILLS, FLORIDA</th>\n",
       "      <th>YEAR_2011.0</th>\n",
       "      <th>YEAR_2012.0</th>\n",
       "      <th>YEAR_2013.0</th>\n",
       "      <th>YEAR_2014.0</th>\n",
       "      <th>YEAR_2015.0</th>\n",
       "      <th>YEAR_2016.0</th>\n",
       "    </tr>\n",
       "  </thead>\n",
       "  <tbody>\n",
       "    <tr>\n",
       "      <th>1227785</th>\n",
       "      <td>1</td>\n",
       "      <td>0</td>\n",
       "      <td>0</td>\n",
       "      <td>1</td>\n",
       "      <td>0</td>\n",
       "      <td>0</td>\n",
       "      <td>0</td>\n",
       "      <td>0</td>\n",
       "      <td>0</td>\n",
       "      <td>0</td>\n",
       "      <td>...</td>\n",
       "      <td>0</td>\n",
       "      <td>0</td>\n",
       "      <td>0</td>\n",
       "      <td>0</td>\n",
       "      <td>0</td>\n",
       "      <td>0</td>\n",
       "      <td>0</td>\n",
       "      <td>0</td>\n",
       "      <td>1</td>\n",
       "      <td>0</td>\n",
       "    </tr>\n",
       "    <tr>\n",
       "      <th>1336620</th>\n",
       "      <td>1</td>\n",
       "      <td>0</td>\n",
       "      <td>0</td>\n",
       "      <td>1</td>\n",
       "      <td>0</td>\n",
       "      <td>0</td>\n",
       "      <td>0</td>\n",
       "      <td>0</td>\n",
       "      <td>0</td>\n",
       "      <td>0</td>\n",
       "      <td>...</td>\n",
       "      <td>0</td>\n",
       "      <td>0</td>\n",
       "      <td>0</td>\n",
       "      <td>0</td>\n",
       "      <td>0</td>\n",
       "      <td>0</td>\n",
       "      <td>0</td>\n",
       "      <td>1</td>\n",
       "      <td>0</td>\n",
       "      <td>0</td>\n",
       "    </tr>\n",
       "    <tr>\n",
       "      <th>2183048</th>\n",
       "      <td>1</td>\n",
       "      <td>1</td>\n",
       "      <td>0</td>\n",
       "      <td>0</td>\n",
       "      <td>0</td>\n",
       "      <td>0</td>\n",
       "      <td>0</td>\n",
       "      <td>0</td>\n",
       "      <td>0</td>\n",
       "      <td>0</td>\n",
       "      <td>...</td>\n",
       "      <td>0</td>\n",
       "      <td>0</td>\n",
       "      <td>0</td>\n",
       "      <td>0</td>\n",
       "      <td>0</td>\n",
       "      <td>0</td>\n",
       "      <td>1</td>\n",
       "      <td>0</td>\n",
       "      <td>0</td>\n",
       "      <td>0</td>\n",
       "    </tr>\n",
       "    <tr>\n",
       "      <th>311274</th>\n",
       "      <td>1</td>\n",
       "      <td>1</td>\n",
       "      <td>0</td>\n",
       "      <td>0</td>\n",
       "      <td>0</td>\n",
       "      <td>0</td>\n",
       "      <td>0</td>\n",
       "      <td>0</td>\n",
       "      <td>0</td>\n",
       "      <td>0</td>\n",
       "      <td>...</td>\n",
       "      <td>0</td>\n",
       "      <td>0</td>\n",
       "      <td>0</td>\n",
       "      <td>0</td>\n",
       "      <td>0</td>\n",
       "      <td>0</td>\n",
       "      <td>0</td>\n",
       "      <td>0</td>\n",
       "      <td>0</td>\n",
       "      <td>1</td>\n",
       "    </tr>\n",
       "    <tr>\n",
       "      <th>2571038</th>\n",
       "      <td>1</td>\n",
       "      <td>0</td>\n",
       "      <td>0</td>\n",
       "      <td>1</td>\n",
       "      <td>0</td>\n",
       "      <td>0</td>\n",
       "      <td>0</td>\n",
       "      <td>0</td>\n",
       "      <td>0</td>\n",
       "      <td>0</td>\n",
       "      <td>...</td>\n",
       "      <td>0</td>\n",
       "      <td>0</td>\n",
       "      <td>0</td>\n",
       "      <td>0</td>\n",
       "      <td>0</td>\n",
       "      <td>1</td>\n",
       "      <td>0</td>\n",
       "      <td>0</td>\n",
       "      <td>0</td>\n",
       "      <td>0</td>\n",
       "    </tr>\n",
       "    <tr>\n",
       "      <th>...</th>\n",
       "      <td>...</td>\n",
       "      <td>...</td>\n",
       "      <td>...</td>\n",
       "      <td>...</td>\n",
       "      <td>...</td>\n",
       "      <td>...</td>\n",
       "      <td>...</td>\n",
       "      <td>...</td>\n",
       "      <td>...</td>\n",
       "      <td>...</td>\n",
       "      <td>...</td>\n",
       "      <td>...</td>\n",
       "      <td>...</td>\n",
       "      <td>...</td>\n",
       "      <td>...</td>\n",
       "      <td>...</td>\n",
       "      <td>...</td>\n",
       "      <td>...</td>\n",
       "      <td>...</td>\n",
       "      <td>...</td>\n",
       "      <td>...</td>\n",
       "    </tr>\n",
       "    <tr>\n",
       "      <th>3002354</th>\n",
       "      <td>1</td>\n",
       "      <td>0</td>\n",
       "      <td>0</td>\n",
       "      <td>1</td>\n",
       "      <td>0</td>\n",
       "      <td>0</td>\n",
       "      <td>0</td>\n",
       "      <td>0</td>\n",
       "      <td>0</td>\n",
       "      <td>0</td>\n",
       "      <td>...</td>\n",
       "      <td>0</td>\n",
       "      <td>0</td>\n",
       "      <td>0</td>\n",
       "      <td>0</td>\n",
       "      <td>1</td>\n",
       "      <td>0</td>\n",
       "      <td>0</td>\n",
       "      <td>0</td>\n",
       "      <td>0</td>\n",
       "      <td>0</td>\n",
       "    </tr>\n",
       "    <tr>\n",
       "      <th>3002355</th>\n",
       "      <td>1</td>\n",
       "      <td>0</td>\n",
       "      <td>0</td>\n",
       "      <td>1</td>\n",
       "      <td>0</td>\n",
       "      <td>0</td>\n",
       "      <td>0</td>\n",
       "      <td>0</td>\n",
       "      <td>0</td>\n",
       "      <td>0</td>\n",
       "      <td>...</td>\n",
       "      <td>0</td>\n",
       "      <td>0</td>\n",
       "      <td>0</td>\n",
       "      <td>0</td>\n",
       "      <td>1</td>\n",
       "      <td>0</td>\n",
       "      <td>0</td>\n",
       "      <td>0</td>\n",
       "      <td>0</td>\n",
       "      <td>0</td>\n",
       "    </tr>\n",
       "    <tr>\n",
       "      <th>3002357</th>\n",
       "      <td>1</td>\n",
       "      <td>0</td>\n",
       "      <td>0</td>\n",
       "      <td>1</td>\n",
       "      <td>0</td>\n",
       "      <td>0</td>\n",
       "      <td>0</td>\n",
       "      <td>0</td>\n",
       "      <td>0</td>\n",
       "      <td>0</td>\n",
       "      <td>...</td>\n",
       "      <td>0</td>\n",
       "      <td>0</td>\n",
       "      <td>0</td>\n",
       "      <td>0</td>\n",
       "      <td>1</td>\n",
       "      <td>0</td>\n",
       "      <td>0</td>\n",
       "      <td>0</td>\n",
       "      <td>0</td>\n",
       "      <td>0</td>\n",
       "    </tr>\n",
       "    <tr>\n",
       "      <th>3002365</th>\n",
       "      <td>1</td>\n",
       "      <td>0</td>\n",
       "      <td>0</td>\n",
       "      <td>1</td>\n",
       "      <td>0</td>\n",
       "      <td>0</td>\n",
       "      <td>0</td>\n",
       "      <td>0</td>\n",
       "      <td>0</td>\n",
       "      <td>0</td>\n",
       "      <td>...</td>\n",
       "      <td>0</td>\n",
       "      <td>0</td>\n",
       "      <td>0</td>\n",
       "      <td>0</td>\n",
       "      <td>1</td>\n",
       "      <td>0</td>\n",
       "      <td>0</td>\n",
       "      <td>0</td>\n",
       "      <td>0</td>\n",
       "      <td>0</td>\n",
       "    </tr>\n",
       "    <tr>\n",
       "      <th>3002368</th>\n",
       "      <td>1</td>\n",
       "      <td>0</td>\n",
       "      <td>0</td>\n",
       "      <td>1</td>\n",
       "      <td>0</td>\n",
       "      <td>0</td>\n",
       "      <td>0</td>\n",
       "      <td>0</td>\n",
       "      <td>0</td>\n",
       "      <td>0</td>\n",
       "      <td>...</td>\n",
       "      <td>0</td>\n",
       "      <td>0</td>\n",
       "      <td>0</td>\n",
       "      <td>0</td>\n",
       "      <td>1</td>\n",
       "      <td>0</td>\n",
       "      <td>0</td>\n",
       "      <td>0</td>\n",
       "      <td>0</td>\n",
       "      <td>0</td>\n",
       "    </tr>\n",
       "  </tbody>\n",
       "</table>\n",
       "<p>95538 rows × 9087 columns</p>\n",
       "</div>"
      ],
      "text/plain": [
       "         FULL_TIME_POSITION  PREVAILING_WAGE_high  PREVAILING_WAGE_low  \\\n",
       "1227785                   1                     0                    0   \n",
       "1336620                   1                     0                    0   \n",
       "2183048                   1                     1                    0   \n",
       "311274                    1                     1                    0   \n",
       "2571038                   1                     0                    0   \n",
       "...                     ...                   ...                  ...   \n",
       "3002354                   1                     0                    0   \n",
       "3002355                   1                     0                    0   \n",
       "3002357                   1                     0                    0   \n",
       "3002365                   1                     0                    0   \n",
       "3002368                   1                     0                    0   \n",
       "\n",
       "         PREVAILING_WAGE_medium  EMPLOYER_NAME_161 hudson cafe llc  \\\n",
       "1227785                       1                                  0   \n",
       "1336620                       1                                  0   \n",
       "2183048                       0                                  0   \n",
       "311274                        0                                  0   \n",
       "2571038                       1                                  0   \n",
       "...                         ...                                ...   \n",
       "3002354                       1                                  0   \n",
       "3002355                       1                                  0   \n",
       "3002357                       1                                  0   \n",
       "3002365                       1                                  0   \n",
       "3002368                       1                                  0   \n",
       "\n",
       "         EMPLOYER_NAME_18 fools llc  EMPLOYER_NAME_18|8 solutions inc  \\\n",
       "1227785                           0                                 0   \n",
       "1336620                           0                                 0   \n",
       "2183048                           0                                 0   \n",
       "311274                            0                                 0   \n",
       "2571038                           0                                 0   \n",
       "...                             ...                               ...   \n",
       "3002354                           0                                 0   \n",
       "3002355                           0                                 0   \n",
       "3002357                           0                                 0   \n",
       "3002365                           0                                 0   \n",
       "3002368                           0                                 0   \n",
       "\n",
       "         EMPLOYER_NAME_22nd century technologies inc  EMPLOYER_NAME_360i llc  \\\n",
       "1227785                                            0                       0   \n",
       "1336620                                            0                       0   \n",
       "2183048                                            0                       0   \n",
       "311274                                             0                       0   \n",
       "2571038                                            0                       0   \n",
       "...                                              ...                     ...   \n",
       "3002354                                            0                       0   \n",
       "3002355                                            0                       0   \n",
       "3002357                                            0                       0   \n",
       "3002365                                            0                       0   \n",
       "3002368                                            0                       0   \n",
       "\n",
       "         EMPLOYER_NAME_3a soft inc  ...  WORKSITE_YPSILANTI, MICHIGAN  \\\n",
       "1227785                          0  ...                             0   \n",
       "1336620                          0  ...                             0   \n",
       "2183048                          0  ...                             0   \n",
       "311274                           0  ...                             0   \n",
       "2571038                          0  ...                             0   \n",
       "...                            ...  ...                           ...   \n",
       "3002354                          0  ...                             0   \n",
       "3002355                          0  ...                             0   \n",
       "3002357                          0  ...                             0   \n",
       "3002365                          0  ...                             0   \n",
       "3002368                          0  ...                             0   \n",
       "\n",
       "         WORKSITE_YUMA, ARIZONA  WORKSITE_ZACHARY, LOUISIANA  \\\n",
       "1227785                       0                            0   \n",
       "1336620                       0                            0   \n",
       "2183048                       0                            0   \n",
       "311274                        0                            0   \n",
       "2571038                       0                            0   \n",
       "...                         ...                          ...   \n",
       "3002354                       0                            0   \n",
       "3002355                       0                            0   \n",
       "3002357                       0                            0   \n",
       "3002365                       0                            0   \n",
       "3002368                       0                            0   \n",
       "\n",
       "         WORKSITE_ZEPHYRHILLS, FLORIDA  YEAR_2011.0  YEAR_2012.0  YEAR_2013.0  \\\n",
       "1227785                              0            0            0            0   \n",
       "1336620                              0            0            0            0   \n",
       "2183048                              0            0            0            1   \n",
       "311274                               0            0            0            0   \n",
       "2571038                              0            0            1            0   \n",
       "...                                ...          ...          ...          ...   \n",
       "3002354                              0            1            0            0   \n",
       "3002355                              0            1            0            0   \n",
       "3002357                              0            1            0            0   \n",
       "3002365                              0            1            0            0   \n",
       "3002368                              0            1            0            0   \n",
       "\n",
       "         YEAR_2014.0  YEAR_2015.0  YEAR_2016.0  \n",
       "1227785            0            1            0  \n",
       "1336620            1            0            0  \n",
       "2183048            0            0            0  \n",
       "311274             0            0            1  \n",
       "2571038            0            0            0  \n",
       "...              ...          ...          ...  \n",
       "3002354            0            0            0  \n",
       "3002355            0            0            0  \n",
       "3002357            0            0            0  \n",
       "3002365            0            0            0  \n",
       "3002368            0            0            0  \n",
       "\n",
       "[95538 rows x 9087 columns]"
      ]
     },
     "execution_count": 49,
     "metadata": {},
     "output_type": "execute_result"
    }
   ],
   "source": [
    "x_features.dropna(axis = 'columns')"
   ]
  },
  {
   "cell_type": "code",
   "execution_count": 50,
   "id": "377e256d",
   "metadata": {},
   "outputs": [],
   "source": [
    "from sklearn.model_selection import train_test_split\n",
    "x_train, x_test, y_train, y_test = train_test_split(x_features, y_encoded, \n",
    "                                                    test_size=0.3)"
   ]
  },
  {
   "cell_type": "code",
   "execution_count": 52,
   "id": "5f30f760",
   "metadata": {},
   "outputs": [],
   "source": [
    "from sklearn import metrics\n",
    "from sklearn.linear_model import LogisticRegression \n",
    "from sklearn.metrics import accuracy_score, precision_score, recall_score, f1_score, roc_auc_score"
   ]
  },
  {
   "cell_type": "markdown",
   "id": "46a17107",
   "metadata": {},
   "source": [
    "# Model 1 - Logistic Regression  "
   ]
  },
  {
   "cell_type": "code",
   "execution_count": 54,
   "id": "33613051",
   "metadata": {},
   "outputs": [
    {
     "name": "stdout",
     "output_type": "stream",
     "text": [
      "Accuracy:  0.7494243248900984 , Precision:  0.7494243248900984 , Recall:  0.7494243248900984 , F1:  0.7494243248900984 , AUC Score:  0.7201068910844785\n"
     ]
    }
   ],
   "source": [
    "clf=LogisticRegression(penalty = 'l2', solver = 'newton-cg')\n",
    "clf=clf.fit(x_train, y_train)\n",
    "y_pred=clf.predict(x_test)\n",
    "print('Accuracy: ', accuracy_score(y_test, y_pred), ', Precision: ', precision_score(y_test, y_pred, average='micro', ),\n",
    "         ', Recall: ', recall_score(y_test, y_pred, average='micro', ), ', F1: ', f1_score(y_test, y_pred, average='micro'), ', AUC Score: ', roc_auc_score(y_pred,y_test, multi_class = 'ovr'))"
   ]
  },
  {
   "cell_type": "markdown",
   "id": "8048939c",
   "metadata": {},
   "source": [
    "## Tuning parameters for the models"
   ]
  },
  {
   "cell_type": "code",
   "execution_count": 55,
   "id": "39efe21e",
   "metadata": {},
   "outputs": [
    {
     "name": "stdout",
     "output_type": "stream",
     "text": [
      "Accuracy:  0.7448538134114856 , Precision:  0.7448538134114856 , Recall:  0.7448538134114856 , F1:  0.7448538134114856 , AUC Score:  0.7174189457020024\n"
     ]
    }
   ],
   "source": [
    "clf=LogisticRegression(penalty = 'l1', solver = 'liblinear')\n",
    "clf=clf.fit(x_train, y_train)\n",
    "y_pred=clf.predict(x_test)\n",
    "print('Accuracy: ', accuracy_score(y_test, y_pred), ', Precision: ', precision_score(y_test, y_pred, average='micro', ),\n",
    "         ', Recall: ', recall_score(y_test, y_pred, average='micro', ), ', F1: ', f1_score(y_test, y_pred, average='micro'), ', AUC Score: ', roc_auc_score(y_pred,y_test, multi_class = 'ovr'))"
   ]
  },
  {
   "cell_type": "code",
   "execution_count": 58,
   "id": "3d0420db",
   "metadata": {},
   "outputs": [
    {
     "name": "stdout",
     "output_type": "stream",
     "text": [
      "Accuracy:  0.7493894354894983 , Precision:  0.7493894354894983 , Recall:  0.7493894354894983 , F1:  0.7493894354894982 , AUC Score:  0.7200600341705302\n"
     ]
    }
   ],
   "source": [
    "clf=LogisticRegression(penalty = 'l2', solver = 'sag')\n",
    "clf=clf.fit(x_train, y_train)\n",
    "y_pred=clf.predict(x_test)\n",
    "print('Accuracy: ', accuracy_score(y_test, y_pred), ', Precision: ', precision_score(y_test, y_pred, average='micro', ),\n",
    "         ', Recall: ', recall_score(y_test, y_pred, average='micro', ), ', F1: ', f1_score(y_test, y_pred, average='micro'), ', AUC Score: ', roc_auc_score(y_pred,y_test, multi_class = 'ovr'))"
   ]
  },
  {
   "cell_type": "markdown",
   "id": "364b6694",
   "metadata": {},
   "source": [
    "# Model 2 - Decision Trees"
   ]
  },
  {
   "cell_type": "code",
   "execution_count": 62,
   "id": "f6d23fad",
   "metadata": {},
   "outputs": [
    {
     "name": "stdout",
     "output_type": "stream",
     "text": [
      "Accuracy:  0.6844253715721164 , Precision:  0.6844253715721164 , Recall:  0.6844253715721164 , F1:  0.6844253715721164 , AUC Score:  0.5\n"
     ]
    }
   ],
   "source": [
    "from sklearn.tree import DecisionTreeClassifier\n",
    "clf=DecisionTreeClassifier(criterion='entropy', max_depth=10, ccp_alpha = 0.1) \n",
    "clf=clf.fit(x_train, y_train)\n",
    "y_pred=clf.predict(x_test)\n",
    "print('Accuracy: ', accuracy_score(y_test, y_pred), ', Precision: ', precision_score(y_test, y_pred, average='micro', ),\n",
    "         ', Recall: ', recall_score(y_test, y_pred, average='micro', ), ', F1: ', f1_score(y_test, y_pred, average='micro'), ', AUC Score: ', roc_auc_score(y_test,y_pred, multi_class = 'ovr'))"
   ]
  },
  {
   "cell_type": "markdown",
   "id": "ca57ff94",
   "metadata": {},
   "source": [
    "## Tuning Parameters for the models"
   ]
  },
  {
   "cell_type": "code",
   "execution_count": 63,
   "id": "c8812832",
   "metadata": {},
   "outputs": [
    {
     "name": "stdout",
     "output_type": "stream",
     "text": [
      "Accuracy:  0.6844253715721164 , Precision:  0.6844253715721164 , Recall:  0.6844253715721164 , F1:  0.6844253715721164 , AUC Score:  0.5\n"
     ]
    }
   ],
   "source": [
    "clf=DecisionTreeClassifier(criterion='gini', max_depth=10, ccp_alpha = 0.1) \n",
    "clf=clf.fit(x_train, y_train)\n",
    "y_pred=clf.predict(x_test)\n",
    "print('Accuracy: ', accuracy_score(y_test, y_pred), ', Precision: ', precision_score(y_test, y_pred, average='micro', ),\n",
    "         ', Recall: ', recall_score(y_test, y_pred, average='micro', ), ', F1: ', f1_score(y_test, y_pred, average='micro'), ', AUC Score: ', roc_auc_score(y_test,y_pred, multi_class = 'ovr'))"
   ]
  },
  {
   "cell_type": "code",
   "execution_count": 64,
   "id": "53c1e333",
   "metadata": {},
   "outputs": [
    {
     "name": "stdout",
     "output_type": "stream",
     "text": [
      "Accuracy:  0.6844253715721164 , Precision:  0.6844253715721164 , Recall:  0.6844253715721164 , F1:  0.6844253715721164 , AUC Score:  0.5\n"
     ]
    }
   ],
   "source": [
    "clf=DecisionTreeClassifier(criterion='gini', max_depth=200, ccp_alpha = 0.1) \n",
    "clf=clf.fit(x_train, y_train)\n",
    "y_pred=clf.predict(x_test)\n",
    "print('Accuracy: ', accuracy_score(y_test, y_pred), ', Precision: ', precision_score(y_test, y_pred, average='micro', ),\n",
    "         ', Recall: ', recall_score(y_test, y_pred, average='micro', ), ', F1: ', f1_score(y_test, y_pred, average='micro'), ', AUC Score: ', roc_auc_score(y_test,y_pred, multi_class = 'ovr'))"
   ]
  },
  {
   "cell_type": "code",
   "execution_count": 65,
   "id": "1ac51dfe",
   "metadata": {},
   "outputs": [
    {
     "name": "stdout",
     "output_type": "stream",
     "text": [
      "Accuracy:  0.6844253715721164 , Precision:  0.6844253715721164 , Recall:  0.6844253715721164 , F1:  0.6844253715721164 , AUC Score:  0.5\n"
     ]
    }
   ],
   "source": [
    "clf=DecisionTreeClassifier(criterion='gini', max_depth=200, ccp_alpha = 0.05) \n",
    "clf=clf.fit(x_train, y_train)\n",
    "y_pred=clf.predict(x_test)\n",
    "print('Accuracy: ', accuracy_score(y_test, y_pred), ', Precision: ', precision_score(y_test, y_pred, average='micro', ),\n",
    "         ', Recall: ', recall_score(y_test, y_pred, average='micro', ), ', F1: ', f1_score(y_test, y_pred, average='micro'), ', AUC Score: ', roc_auc_score(y_test,y_pred, multi_class = 'ovr'))"
   ]
  },
  {
   "cell_type": "markdown",
   "id": "017365d9",
   "metadata": {},
   "source": [
    "# Model 3 - SVM"
   ]
  },
  {
   "cell_type": "code",
   "execution_count": 66,
   "id": "f3e7b9f9",
   "metadata": {},
   "outputs": [
    {
     "name": "stderr",
     "output_type": "stream",
     "text": [
      "C:\\Users\\parth\\anaconda3\\lib\\site-packages\\sklearn\\svm\\_base.py:284: ConvergenceWarning: Solver terminated early (max_iter=1000).  Consider pre-processing your data with StandardScaler or MinMaxScaler.\n",
      "  warnings.warn(\n"
     ]
    },
    {
     "name": "stdout",
     "output_type": "stream",
     "text": [
      "Accuracy:  0.6415462982345963 , Precision:  0.6415462982345963 , Recall:  0.6415462982345963 , F1:  0.6415462982345963 , AUC Score:  0.49316338225272677\n"
     ]
    }
   ],
   "source": [
    "from sklearn.svm import SVC\n",
    "\n",
    "clf=SVC(kernel='rbf', C=0.5, max_iter=1000)            \n",
    "clf=clf.fit(x_train, y_train)\n",
    "y_pred=clf.predict(x_test)\n",
    "print('Accuracy: ', accuracy_score(y_test, y_pred), ', Precision: ', precision_score(y_test, y_pred, average='micro', ),\n",
    "         ', Recall: ', recall_score(y_test, y_pred, average='micro', ), ', F1: ', f1_score(y_test, y_pred, average='micro'), ', AUC Score: ', roc_auc_score(y_test,y_pred, multi_class = 'ovr'))"
   ]
  },
  {
   "cell_type": "markdown",
   "id": "5a11db10",
   "metadata": {},
   "source": [
    "## Tuning Parameters for the models"
   ]
  },
  {
   "cell_type": "code",
   "execution_count": 67,
   "id": "ecfcaa87",
   "metadata": {},
   "outputs": [
    {
     "name": "stderr",
     "output_type": "stream",
     "text": [
      "C:\\Users\\parth\\anaconda3\\lib\\site-packages\\sklearn\\svm\\_base.py:284: ConvergenceWarning: Solver terminated early (max_iter=10).  Consider pre-processing your data with StandardScaler or MinMaxScaler.\n",
      "  warnings.warn(\n"
     ]
    },
    {
     "name": "stdout",
     "output_type": "stream",
     "text": [
      "Accuracy:  0.4012978857023236 , Precision:  0.4012978857023236 , Recall:  0.4012978857023236 , F1:  0.4012978857023236 , AUC Score:  0.46240711955675906\n"
     ]
    }
   ],
   "source": [
    "clf=SVC(kernel='rbf', C=0.5, max_iter=10)            \n",
    "clf=clf.fit(x_train, y_train)\n",
    "y_pred=clf.predict(x_test)\n",
    "print('Accuracy: ', accuracy_score(y_test, y_pred), ', Precision: ', precision_score(y_test, y_pred, average='micro', ),\n",
    "         ', Recall: ', recall_score(y_test, y_pred, average='micro', ), ', F1: ', f1_score(y_test, y_pred, average='micro'), ', AUC Score: ', roc_auc_score(y_test,y_pred, multi_class = 'ovr'))"
   ]
  },
  {
   "cell_type": "code",
   "execution_count": 68,
   "id": "c489161e",
   "metadata": {},
   "outputs": [
    {
     "name": "stderr",
     "output_type": "stream",
     "text": [
      "C:\\Users\\parth\\anaconda3\\lib\\site-packages\\sklearn\\svm\\_base.py:284: ConvergenceWarning: Solver terminated early (max_iter=100).  Consider pre-processing your data with StandardScaler or MinMaxScaler.\n",
      "  warnings.warn(\n"
     ]
    },
    {
     "name": "stdout",
     "output_type": "stream",
     "text": [
      "Accuracy:  0.6424883120507989 , Precision:  0.6424883120507989 , Recall:  0.6424883120507989 , F1:  0.6424883120507989 , AUC Score:  0.4810116128504307\n"
     ]
    }
   ],
   "source": [
    "clf=SVC(kernel='rbf', C=0.01, max_iter=100)            \n",
    "clf=clf.fit(x_train, y_train)\n",
    "y_pred=clf.predict(x_test)\n",
    "print('Accuracy: ', accuracy_score(y_test, y_pred), ', Precision: ', precision_score(y_test, y_pred, average='micro', ),\n",
    "         ', Recall: ', recall_score(y_test, y_pred, average='micro', ), ', F1: ', f1_score(y_test, y_pred, average='micro'), ', AUC Score: ', roc_auc_score(y_test,y_pred, multi_class = 'ovr'))"
   ]
  },
  {
   "cell_type": "code",
   "execution_count": 69,
   "id": "e524a4e5",
   "metadata": {},
   "outputs": [
    {
     "name": "stderr",
     "output_type": "stream",
     "text": [
      "C:\\Users\\parth\\anaconda3\\lib\\site-packages\\sklearn\\svm\\_base.py:284: ConvergenceWarning: Solver terminated early (max_iter=100).  Consider pre-processing your data with StandardScaler or MinMaxScaler.\n",
      "  warnings.warn(\n"
     ]
    },
    {
     "name": "stdout",
     "output_type": "stream",
     "text": [
      "Accuracy:  0.4366408485102226 , Precision:  0.4366408485102226 , Recall:  0.4366408485102226 , F1:  0.4366408485102226 , AUC Score:  0.506309736934941\n"
     ]
    }
   ],
   "source": [
    "clf=SVC(kernel='sigmoid', C=0.01, max_iter=100)            \n",
    "clf=clf.fit(x_train, y_train)\n",
    "y_pred=clf.predict(x_test)\n",
    "print('Accuracy: ', accuracy_score(y_test, y_pred), ', Precision: ', precision_score(y_test, y_pred, average='micro', ),\n",
    "         ', Recall: ', recall_score(y_test, y_pred, average='micro', ), ', F1: ', f1_score(y_test, y_pred, average='micro'), ', AUC Score: ', roc_auc_score(y_test,y_pred, multi_class = 'ovr'))"
   ]
  },
  {
   "cell_type": "markdown",
   "id": "832cfd18",
   "metadata": {},
   "source": [
    "# Model 4 - KNN"
   ]
  },
  {
   "cell_type": "code",
   "execution_count": 70,
   "id": "8f307dcb",
   "metadata": {},
   "outputs": [
    {
     "name": "stdout",
     "output_type": "stream",
     "text": [
      "Accuracy:  0.6973344497941525 , Precision:  0.6973344497941525 , Recall:  0.6973344497941525 , F1:  0.6973344497941525 , AUC Score:  0.5281393832861149\n",
      "Accuracy:  0.6955550903635476 , Precision:  0.6955550903635476 , Recall:  0.6955550903635476 , F1:  0.6955550903635476 , AUC Score:  0.5238008019409166\n",
      "Accuracy:  0.6947875235503455 , Precision:  0.6947875235503455 , Recall:  0.6947875235503455 , F1:  0.6947875235503455 , AUC Score:  0.521839883858815\n",
      "Accuracy:  0.6929034959179401 , Precision:  0.6929034959179401 , Recall:  0.6929034959179401 , F1:  0.6929034959179401 , AUC Score:  0.5183185701033836\n",
      "Accuracy:  0.692484823110739 , Precision:  0.692484823110739 , Recall:  0.692484823110739 , F1:  0.692484823110739 , AUC Score:  0.5169700257442461\n",
      "Accuracy:  0.6913683622915359 , Precision:  0.6913683622915359 , Recall:  0.6913683622915359 , F1:  0.6913683622915359 , AUC Score:  0.5145754803153694\n"
     ]
    }
   ],
   "source": [
    "from sklearn import neighbors\n",
    "kvalues = [161,181,201,221,241,261]\n",
    "for k in kvalues: \n",
    "    clf=neighbors.KNeighborsClassifier(k, metric='euclidean')\n",
    "    clf.fit(x_train, y_train)\n",
    "    y_pred = clf.predict(x_test)\n",
    "    print('Accuracy: ', accuracy_score(y_test, y_pred), ', Precision: ', precision_score(y_test, y_pred, average='micro', ),\n",
    "         ', Recall: ', recall_score(y_test, y_pred, average='micro', ), ', F1: ', f1_score(y_test, y_pred, average='micro'), ', AUC Score: ', roc_auc_score(y_test,y_pred, multi_class = 'ovr'))"
   ]
  },
  {
   "cell_type": "markdown",
   "id": "c369c063",
   "metadata": {},
   "source": [
    "## Parameter Tuning for the model"
   ]
  },
  {
   "cell_type": "code",
   "execution_count": null,
   "id": "3a65fe7e",
   "metadata": {},
   "outputs": [],
   "source": [
    "# kvalues = [161,181,201,221,241,261]\n",
    "# for k in kvalues: \n",
    "#     clf=neighbors.KNeighborsClassifier(k, metric='manhattan')\n",
    "#     clf.fit(x_train, y_train)\n",
    "#     y_pred = clf.predict(x_test)\n",
    "#     print('Accuracy: ', accuracy_score(y_test, y_pred), ', Precision: ', precision_score(y_test, y_pred, average='micro', ),\n",
    "#          ', Recall: ', recall_score(y_test, y_pred, average='micro', ), ', F1: ', f1_score(y_test, y_pred, average='micro'), ', AUC Score: ', roc_auc_score(y_test,y_pred, multi_class = 'ovr'))"
   ]
  },
  {
   "cell_type": "markdown",
   "id": "bdd773f4",
   "metadata": {},
   "source": [
    "# Model 5 - Neural Networks"
   ]
  },
  {
   "cell_type": "code",
   "execution_count": 54,
   "id": "e6586db4",
   "metadata": {},
   "outputs": [
    {
     "name": "stderr",
     "output_type": "stream",
     "text": [
      "C:\\Users\\parth\\anaconda3\\lib\\site-packages\\sklearn\\neural_network\\_multilayer_perceptron.py:699: UserWarning: Training interrupted by user.\n",
      "  warnings.warn(\"Training interrupted by user.\")\n"
     ]
    },
    {
     "name": "stdout",
     "output_type": "stream",
     "text": [
      "Accuracy:  0.7256297536808317 , Precision:  0.7256297536808317 , Recall:  0.7256297536808317 , F1:  0.7256297536808317 , AUC Score:  0.6665570218101965\n"
     ]
    }
   ],
   "source": [
    "from sklearn.neural_network import MLPClassifier\n",
    "clf=MLPClassifier(solver='sgd',activation = \"relu\",learning_rate_init = 0.1,alpha=0.1,hidden_layer_sizes=(20))\n",
    "clf=clf.fit(x_train, y_train)\n",
    "y_pred=clf.predict(x_test)\n",
    "print('Accuracy: ', accuracy_score(y_test, y_pred), ', Precision: ', precision_score(y_test, y_pred, average='micro', ),\n",
    "         ', Recall: ', recall_score(y_test, y_pred, average='micro', ), ', F1: ', f1_score(y_test, y_pred, average='micro'), ', AUC Score: ', roc_auc_score(y_test,y_pred, multi_class = 'ovr'))"
   ]
  },
  {
   "cell_type": "markdown",
   "id": "cc428d27",
   "metadata": {},
   "source": [
    "##    Parameter Tuning for the model "
   ]
  },
  {
   "cell_type": "code",
   "execution_count": 55,
   "id": "ab1ef757",
   "metadata": {},
   "outputs": [
    {
     "name": "stderr",
     "output_type": "stream",
     "text": [
      "C:\\Users\\parth\\anaconda3\\lib\\site-packages\\sklearn\\neural_network\\_multilayer_perceptron.py:699: UserWarning: Training interrupted by user.\n",
      "  warnings.warn(\"Training interrupted by user.\")\n"
     ]
    },
    {
     "name": "stdout",
     "output_type": "stream",
     "text": [
      "Accuracy:  0.7320145139906497 , Precision:  0.7320145139906497 , Recall:  0.7320145139906497 , F1:  0.7320145139906497 , AUC Score:  0.6733819490947516\n"
     ]
    }
   ],
   "source": [
    "from sklearn.neural_network import MLPClassifier\n",
    "clf=MLPClassifier()\n",
    "clf=clf.fit(x_train, y_train)\n",
    "y_pred=clf.predict(x_test)\n",
    "print('Accuracy: ', accuracy_score(y_test, y_pred), ', Precision: ', precision_score(y_test, y_pred, average='micro', ),\n",
    "         ', Recall: ', recall_score(y_test, y_pred, average='micro', ), ', F1: ', f1_score(y_test, y_pred, average='micro'), ', AUC Score: ', roc_auc_score(y_test,y_pred, multi_class = 'ovr'))"
   ]
  },
  {
   "cell_type": "markdown",
   "id": "861ef88e",
   "metadata": {},
   "source": [
    "# Model 6 - Naive Bayes"
   ]
  },
  {
   "cell_type": "code",
   "execution_count": 56,
   "id": "9b7fdabc",
   "metadata": {},
   "outputs": [
    {
     "name": "stdout",
     "output_type": "stream",
     "text": [
      "Accuracy:  0.4380364245342265 , Precision:  0.4380364245342265 , Recall:  0.4380364245342265 , F1:  0.4380364245342264 , AUC Score:  0.5550489024592531\n"
     ]
    }
   ],
   "source": [
    "from sklearn.naive_bayes import CategoricalNB,BernoulliNB,ComplementNB,MultinomialNB,GaussianNB\n",
    "\n",
    "clf = GaussianNB()\n",
    "clf.fit(x_train, y_train)\n",
    "y_pred = clf.predict(x_test)\n",
    "print('Accuracy: ', accuracy_score(y_test, y_pred), ', Precision: ', precision_score(y_test, y_pred, average='micro', ),\n",
    "         ', Recall: ', recall_score(y_test, y_pred, average='micro', ), ', F1: ', f1_score(y_test, y_pred, average='micro'), ', AUC Score: ', roc_auc_score(y_test,y_pred, multi_class = 'ovr'))"
   ]
  },
  {
   "cell_type": "code",
   "execution_count": 59,
   "id": "61d72331",
   "metadata": {},
   "outputs": [
    {
     "name": "stdout",
     "output_type": "stream",
     "text": [
      "Accuracy:  0.7348754448398577 , Precision:  0.7348754448398577 , Recall:  0.7348754448398577 , F1:  0.7348754448398577 , AUC Score:  0.6512611291662487\n"
     ]
    }
   ],
   "source": [
    "clf = MultinomialNB()\n",
    "clf.fit(x_train, y_train)\n",
    "y_pred = clf.predict(x_test)\n",
    "print('Accuracy: ', accuracy_score(y_test, y_pred), ', Precision: ', precision_score(y_test, y_pred, average='micro', ),\n",
    "         ', Recall: ', recall_score(y_test, y_pred, average='micro', ), ', F1: ', f1_score(y_test, y_pred, average='micro'), ', AUC Score: ', roc_auc_score(y_test,y_pred, multi_class = 'ovr'))"
   ]
  },
  {
   "cell_type": "code",
   "execution_count": 60,
   "id": "a1d099b1",
   "metadata": {},
   "outputs": [
    {
     "name": "stdout",
     "output_type": "stream",
     "text": [
      "Accuracy:  0.7007885004535622 , Precision:  0.7007885004535622 , Recall:  0.7007885004535622 , F1:  0.7007885004535622 , AUC Score:  0.6739512490810311\n"
     ]
    }
   ],
   "source": [
    "clf = ComplementNB()\n",
    "clf.fit(x_train, y_train)\n",
    "y_pred = clf.predict(x_test)\n",
    "print('Accuracy: ', accuracy_score(y_test, y_pred), ', Precision: ', precision_score(y_test, y_pred, average='micro', ),\n",
    "         ', Recall: ', recall_score(y_test, y_pred, average='micro', ), ', F1: ', f1_score(y_test, y_pred, average='micro'), ', AUC Score: ', roc_auc_score(y_test,y_pred, multi_class = 'ovr'))"
   ]
  },
  {
   "cell_type": "code",
   "execution_count": 61,
   "id": "978663ab",
   "metadata": {},
   "outputs": [
    {
     "name": "stdout",
     "output_type": "stream",
     "text": [
      "Accuracy:  0.7305840485660456 , Precision:  0.7305840485660456 , Recall:  0.7305840485660456 , F1:  0.7305840485660456 , AUC Score:  0.6496973290001004\n"
     ]
    }
   ],
   "source": [
    "clf = BernoulliNB()\n",
    "clf.fit(x_train, y_train)\n",
    "y_pred = clf.predict(x_test)\n",
    "print('Accuracy: ', accuracy_score(y_test, y_pred), ', Precision: ', precision_score(y_test, y_pred, average='micro', ),\n",
    "         ', Recall: ', recall_score(y_test, y_pred, average='micro', ), ', F1: ', f1_score(y_test, y_pred, average='micro'), ', AUC Score: ', roc_auc_score(y_test,y_pred, multi_class = 'ovr'))"
   ]
  },
  {
   "cell_type": "code",
   "execution_count": null,
   "id": "e33461e5",
   "metadata": {},
   "outputs": [],
   "source": []
  }
 ],
 "metadata": {
  "kernelspec": {
   "display_name": "Python 3 (ipykernel)",
   "language": "python",
   "name": "python3"
  },
  "language_info": {
   "codemirror_mode": {
    "name": "ipython",
    "version": 3
   },
   "file_extension": ".py",
   "mimetype": "text/x-python",
   "name": "python",
   "nbconvert_exporter": "python",
   "pygments_lexer": "ipython3",
   "version": "3.9.12"
  }
 },
 "nbformat": 4,
 "nbformat_minor": 5
}
